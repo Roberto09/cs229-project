{
 "cells": [
  {
   "cell_type": "code",
   "execution_count": 1,
   "id": "8dcc0b3c-f49e-4f81-9e4d-6be001ffaac6",
   "metadata": {},
   "outputs": [],
   "source": [
    "%load_ext autoreload\n",
    "%autoreload 2"
   ]
  },
  {
   "cell_type": "code",
   "execution_count": 2,
   "id": "ceb4f848-16e4-4afe-bcca-cb2670301ef0",
   "metadata": {},
   "outputs": [],
   "source": [
    "from dataset_preprocessing import fetch_preprocessed_data"
   ]
  },
  {
   "cell_type": "code",
   "execution_count": 3,
   "id": "2afd9c1a-3942-4e6c-94b2-a22043a88513",
   "metadata": {},
   "outputs": [],
   "source": [
    "# fetch_preprocessed_data()"
   ]
  },
  {
   "cell_type": "code",
   "execution_count": 4,
   "id": "b5d1262b-199d-49dd-a62b-8c62da691a12",
   "metadata": {},
   "outputs": [],
   "source": [
    "import os\n",
    "os.environ[\"CUDA_VISIBLE_DEVICES\"] = \"1\""
   ]
  },
  {
   "cell_type": "code",
   "execution_count": 5,
   "id": "3af7d008-d05d-4641-a135-eda49f96de2c",
   "metadata": {},
   "outputs": [],
   "source": [
    "from dataset_preprocessing import TokenInfo"
   ]
  },
  {
   "cell_type": "code",
   "execution_count": 6,
   "id": "09feb74d-c26a-4a1e-ae6d-ea67a8dec791",
   "metadata": {},
   "outputs": [],
   "source": [
    "import torch\n",
    "from transformers import AutoModelForCausalLM, AutoTokenizer\n",
    "import pandas as pd"
   ]
  },
  {
   "cell_type": "code",
   "execution_count": 7,
   "id": "b37ba1c7-b354-4080-b52a-4db60da9f52b",
   "metadata": {},
   "outputs": [],
   "source": [
    "from tqdm import tqdm\n",
    "import random"
   ]
  },
  {
   "cell_type": "code",
   "execution_count": 8,
   "id": "b3ebe020-9d6b-4435-add6-8b2da60a61e3",
   "metadata": {},
   "outputs": [
    {
     "name": "stdout",
     "output_type": "stream",
     "text": [
      "...Loading dataset...\n",
      "...Loading complete...\n"
     ]
    }
   ],
   "source": [
    "token_info = TokenInfo()"
   ]
  },
  {
   "cell_type": "code",
   "execution_count": 9,
   "id": "26a6331d-96cc-4770-b939-1663c62471df",
   "metadata": {},
   "outputs": [],
   "source": [
    "model_id = \"microsoft/phi-1_5\"\n",
    "model_revision = \"349cf8b5e81fd5f791d1740da5de1313a0419bbd\" # latest as of feb 1st"
   ]
  },
  {
   "cell_type": "code",
   "execution_count": 10,
   "id": "ca5d892d-2334-4205-9eb8-69bc06f90bfe",
   "metadata": {},
   "outputs": [
    {
     "data": {
      "text/plain": [
       "50295"
      ]
     },
     "execution_count": 10,
     "metadata": {},
     "output_type": "execute_result"
    }
   ],
   "source": [
    "tokenizer = AutoTokenizer.from_pretrained(model_id, trust_remote_code=True)\n",
    "vocab = tokenizer.get_vocab()\n",
    "len(vocab)"
   ]
  },
  {
   "cell_type": "code",
   "execution_count": 11,
   "id": "17c00791-b21d-4337-ab2b-7030deb76384",
   "metadata": {},
   "outputs": [],
   "source": [
    "model = AutoModelForCausalLM.from_pretrained(\n",
    "    model_id,\n",
    "    revision=model_revision,\n",
    "    trust_remote_code=True,\n",
    "    # be careful with this?\n",
    "    torch_dtype=torch.float16,\n",
    "    # attn_implementation=\"flash_attention_2\",\n",
    ")"
   ]
  },
  {
   "cell_type": "code",
   "execution_count": 12,
   "id": "f41a6ac9-bac0-4b43-a5c0-cbf13561190e",
   "metadata": {},
   "outputs": [
    {
     "data": {
      "text/plain": [
       "PhiForCausalLM(\n",
       "  (model): PhiModel(\n",
       "    (embed_tokens): Embedding(51200, 2048)\n",
       "    (embed_dropout): Dropout(p=0.0, inplace=False)\n",
       "    (layers): ModuleList(\n",
       "      (0-23): 24 x PhiDecoderLayer(\n",
       "        (self_attn): PhiAttention(\n",
       "          (q_proj): Linear(in_features=2048, out_features=2048, bias=True)\n",
       "          (k_proj): Linear(in_features=2048, out_features=2048, bias=True)\n",
       "          (v_proj): Linear(in_features=2048, out_features=2048, bias=True)\n",
       "          (dense): Linear(in_features=2048, out_features=2048, bias=True)\n",
       "          (rotary_emb): PhiRotaryEmbedding()\n",
       "        )\n",
       "        (mlp): PhiMLP(\n",
       "          (activation_fn): NewGELUActivation()\n",
       "          (fc1): Linear(in_features=2048, out_features=8192, bias=True)\n",
       "          (fc2): Linear(in_features=8192, out_features=2048, bias=True)\n",
       "        )\n",
       "        (input_layernorm): LayerNorm((2048,), eps=1e-05, elementwise_affine=True)\n",
       "        (resid_dropout): Dropout(p=0.0, inplace=False)\n",
       "      )\n",
       "    )\n",
       "    (final_layernorm): LayerNorm((2048,), eps=1e-05, elementwise_affine=True)\n",
       "  )\n",
       "  (lm_head): Linear(in_features=2048, out_features=51200, bias=True)\n",
       ")"
      ]
     },
     "execution_count": 12,
     "metadata": {},
     "output_type": "execute_result"
    }
   ],
   "source": [
    "model"
   ]
  },
  {
   "cell_type": "code",
   "execution_count": 13,
   "id": "0527917f-d2c1-492f-b8af-5968acc35b4a",
   "metadata": {},
   "outputs": [],
   "source": [
    "token_samples = token_info.top_n(10_000) # approx top 20% tokens"
   ]
  },
  {
   "cell_type": "code",
   "execution_count": 14,
   "id": "6b71d01d-0e2a-4eb2-ba98-0e1b79328862",
   "metadata": {},
   "outputs": [],
   "source": [
    "from importances import compute_delta_loss_importances"
   ]
  },
  {
   "cell_type": "code",
   "execution_count": 15,
   "id": "5eba6f30-a409-4a2f-82dc-1aa930fd0a3d",
   "metadata": {},
   "outputs": [
    {
     "name": "stderr",
     "output_type": "stream",
     "text": [
      "10000it [2:54:58,  1.05s/it]\n"
     ]
    }
   ],
   "source": [
    "importance_dict = {}\n",
    "# take longer sequences\n",
    "for i, t_info in tqdm(enumerate(token_samples)):\n",
    "    examples = token_info.get_prefixes(t_info[0], 10, 10)\n",
    "    examples = torch.tensor(examples, device=\"cuda:0\")\n",
    "    importances, sample_inputs = compute_delta_loss_importances(model, examples)\n",
    "    importance_dict[t_info] = (importances, sample_inputs)\n",
    "    if (i+1) % 100 == 0:\n",
    "        pd.to_pickle(importance_dict, f\"importances_inputs/importance_{i}.pkl\")        \n",
    "        del importance_dict\n",
    "        importance_dict = {}\n"
   ]
  },
  {
   "cell_type": "code",
   "execution_count": 19,
   "id": "34786cf7-5474-4df1-af1c-1831684a176c",
   "metadata": {},
   "outputs": [],
   "source": [
    "importance_dict = pd.read_pickle(\"importances_inputs/importance_99.pkl\")"
   ]
  },
  {
   "cell_type": "code",
   "execution_count": 21,
   "id": "58302e19-744a-4df6-a94b-93f363b564bc",
   "metadata": {},
   "outputs": [],
   "source": [
    "keys = list(importance_dict.keys())\n",
    "inputs_0 = importance_dict[keys[0]]"
   ]
  },
  {
   "cell_type": "code",
   "execution_count": 22,
   "id": "f6e7999e-b4c3-4775-99d2-de891968aed3",
   "metadata": {},
   "outputs": [
    {
     "data": {
      "text/plain": [
       "[(13, '.', 3932482),\n",
       " (11, ',', 3259473),\n",
       " (262, ' the', 3155352),\n",
       " (290, ' and', 2155455),\n",
       " (286, ' of', 1956767),\n",
       " (284, ' to', 1825320),\n",
       " (198, '\\n', 1706000),\n",
       " (257, ' a', 1478621),\n",
       " (287, ' in', 1271252),\n",
       " (12, '-', 926863),\n",
       " (318, ' is', 840309),\n",
       " (329, ' for', 776238),\n",
       " (492, '..', 613565),\n",
       " (351, ' with', 592647),\n",
       " (447, '�', 561724),\n",
       " (326, ' that', 550820),\n",
       " (319, ' on', 495997),\n",
       " (25, ':', 493786),\n",
       " (357, ' (', 405048),\n",
       " (247, '�', 393665),\n",
       " (389, ' are', 386448),\n",
       " (383, ' The', 381717),\n",
       " (345, ' you', 363524),\n",
       " (355, ' as', 362606),\n",
       " (314, ' I', 344230),\n",
       " (307, ' be', 340175),\n",
       " (82, 's', 336810),\n",
       " (340, ' it', 323477),\n",
       " (416, ' by', 310280),\n",
       " (422, ' from', 304457),\n",
       " (379, ' at', 282352),\n",
       " (8, ')', 278764),\n",
       " (281, ' an', 273679),\n",
       " (373, ' was', 269707),\n",
       " (423, ' have', 267411),\n",
       " (393, ' or', 264426),\n",
       " (428, ' this', 257714),\n",
       " (534, ' your', 240872),\n",
       " (481, ' will', 232736),\n",
       " (460, ' can', 229507),\n",
       " (468, ' has', 220713),\n",
       " (532, ' -', 207396),\n",
       " (338, \"'s\", 191937),\n",
       " (14, '/', 188612),\n",
       " (407, ' not', 173405),\n",
       " (517, ' more', 172908),\n",
       " (356, ' we', 165836),\n",
       " (543, ' which', 154977),\n",
       " (477, ' all', 153116),\n",
       " (511, ' their', 143838),\n",
       " (251, '�', 143145),\n",
       " (250, '�', 140009),\n",
       " (674, ' our', 137812),\n",
       " (564, ' �', 137015),\n",
       " (475, ' but', 129457),\n",
       " (530, ' one', 128851),\n",
       " (464, 'The', 128235),\n",
       " (546, ' about', 128032),\n",
       " (635, ' also', 125152),\n",
       " (30, '?', 124384),\n",
       " (587, ' been', 118018),\n",
       " (484, ' they', 116772),\n",
       " (649, ' new', 115937),\n",
       " (366, ' \"', 108984),\n",
       " (16, '1', 108345),\n",
       " (770, ' This', 106781),\n",
       " (510, ' up', 106697),\n",
       " (547, ' were', 106183),\n",
       " (17, '2', 105288),\n",
       " (508, ' who', 103480),\n",
       " (616, ' my', 102597),\n",
       " (640, ' time', 101310),\n",
       " (317, ' A', 99613),\n",
       " (1, '\"', 98236),\n",
       " (352, ' 1', 97042),\n",
       " (503, ' out', 96226),\n",
       " (632, ' It', 95114),\n",
       " (362, ' 2', 94770),\n",
       " (554, ' In', 93841),\n",
       " (465, ' his', 93798),\n",
       " (584, ' other', 93723),\n",
       " (775, ' We', 92864),\n",
       " (663, ' its', 92841),\n",
       " (737, ').', 92678),\n",
       " (523, ' so', 91557),\n",
       " (618, ' when', 89935),\n",
       " (339, ' he', 88215),\n",
       " (656, ' into', 87639),\n",
       " (83, 't', 87440),\n",
       " (588, ' like', 85161),\n",
       " (26, ';', 84559),\n",
       " (278, 'ing', 83704),\n",
       " (720, ' $', 83055),\n",
       " (0, '!', 82976),\n",
       " (561, ' would', 81752),\n",
       " (617, ' some', 79826),\n",
       " (531, ' said', 79332),\n",
       " (621, ' than', 79168),\n",
       " (466, ' do', 78762),\n",
       " (62, '_', 77606)]"
      ]
     },
     "execution_count": 22,
     "metadata": {},
     "output_type": "execute_result"
    }
   ],
   "source": [
    "keys"
   ]
  },
  {
   "cell_type": "code",
   "execution_count": 23,
   "id": "f304b7ec-314a-4e9b-8081-11825d734ed9",
   "metadata": {},
   "outputs": [
    {
     "ename": "AttributeError",
     "evalue": "'tuple' object has no attribute 'keys'",
     "output_type": "error",
     "traceback": [
      "\u001b[0;31m---------------------------------------------------------------------------\u001b[0m",
      "\u001b[0;31mAttributeError\u001b[0m                            Traceback (most recent call last)",
      "Cell \u001b[0;32mIn[23], line 1\u001b[0m\n\u001b[0;32m----> 1\u001b[0m \u001b[38;5;28mlist\u001b[39m(\u001b[43minputs_0\u001b[49m\u001b[38;5;241;43m.\u001b[39;49m\u001b[43mkeys\u001b[49m())\n",
      "\u001b[0;31mAttributeError\u001b[0m: 'tuple' object has no attribute 'keys'"
     ]
    }
   ],
   "source": [
    "list(inputs_0.keys())"
   ]
  },
  {
   "cell_type": "code",
   "execution_count": null,
   "id": "c9c99bd0-b401-438a-a910-3bf4e559996d",
   "metadata": {},
   "outputs": [],
   "source": [
    "inputs_0[0]"
   ]
  },
  {
   "cell_type": "code",
   "execution_count": null,
   "id": "ecfa15f1-ad80-443d-b633-3bc685255cf1",
   "metadata": {},
   "outputs": [],
   "source": [
    "inputs_0[0].size()"
   ]
  },
  {
   "cell_type": "code",
   "execution_count": null,
   "id": "82af1c4c-3995-4da3-be79-cf855aaab574",
   "metadata": {},
   "outputs": [],
   "source": [
    "examples.size()"
   ]
  },
  {
   "cell_type": "code",
   "execution_count": null,
   "id": "3fe7a440-22ae-4159-9022-a37f7a81386c",
   "metadata": {},
   "outputs": [],
   "source": []
  },
  {
   "cell_type": "code",
   "execution_count": null,
   "id": "359c081d-8e8e-44f7-9b65-724c5f9f760d",
   "metadata": {},
   "outputs": [],
   "source": []
  }
 ],
 "metadata": {
  "kernelspec": {
   "display_name": "Python 3 (ipykernel)",
   "language": "python",
   "name": "python3"
  },
  "language_info": {
   "codemirror_mode": {
    "name": "ipython",
    "version": 3
   },
   "file_extension": ".py",
   "mimetype": "text/x-python",
   "name": "python",
   "nbconvert_exporter": "python",
   "pygments_lexer": "ipython3",
   "version": "3.10.13"
  }
 },
 "nbformat": 4,
 "nbformat_minor": 5
}
