{
 "cells": [
  {
   "cell_type": "code",
   "execution_count": 1,
   "id": "12cc1aaf-5b39-4745-9d30-6eaed0b604b6",
   "metadata": {},
   "outputs": [],
   "source": [
    "%load_ext autoreload\n",
    "%autoreload 2"
   ]
  },
  {
   "cell_type": "code",
   "execution_count": 2,
   "id": "fb189dd8-135f-4827-8a92-f4b4ea2f86c2",
   "metadata": {},
   "outputs": [],
   "source": [
    "import os\n",
    "os.environ[\"CUDA_VISIBLE_DEVICES\"] = \"1\""
   ]
  },
  {
   "cell_type": "code",
   "execution_count": 3,
   "id": "3b3e529a-4129-4dc6-8a7e-5092d2691e50",
   "metadata": {},
   "outputs": [],
   "source": [
    "pruning_ratio = 20 # edit\n",
    "pruning_method = \"magnitude\" # edit, can also be \"random\" "
   ]
  },
  {
   "cell_type": "code",
   "execution_count": 4,
   "id": "a7a65062-72ba-40f0-ad0c-e37ed36df9dd",
   "metadata": {},
   "outputs": [
    {
     "name": "stderr",
     "output_type": "stream",
     "text": [
      "/home/research/andriv/.conda/envs/pytorch_cuda-11.8/lib/python3.9/site-packages/tqdm/auto.py:21: TqdmWarning: IProgress not found. Please update jupyter and ipywidgets. See https://ipywidgets.readthedocs.io/en/stable/user_install.html\n",
      "  from .autonotebook import tqdm as notebook_tqdm\n"
     ]
    }
   ],
   "source": [
    "import os\n",
    "import pandas as pd\n",
    "import torch\n",
    "from dataset_preprocessing import TokenInfo\n",
    "import torch\n",
    "from transformers import AutoModelForCausalLM, AutoTokenizer\n",
    "import itertools\n",
    "import pandas as pd\n",
    "from tqdm import tqdm"
   ]
  },
  {
   "cell_type": "markdown",
   "id": "d376ae97-4ec1-46d5-b640-566545c2e21d",
   "metadata": {},
   "source": [
    "## Importances"
   ]
  },
  {
   "cell_type": "markdown",
   "id": "2b4532c3-06f6-4353-b261-92acee331bbc",
   "metadata": {},
   "source": [
    "## Model"
   ]
  },
  {
   "cell_type": "code",
   "execution_count": 5,
   "id": "41b0cc63-e94b-4d1e-aff7-ea5c7310e5ca",
   "metadata": {},
   "outputs": [],
   "source": [
    "model_id = \"microsoft/phi-1_5\"\n",
    "model_revision = \"349cf8b5e81fd5f791d1740da5de1313a0419bbd\" # latest as of feb 1st"
   ]
  },
  {
   "cell_type": "code",
   "execution_count": 6,
   "id": "a84556f1-3c37-4283-bbdb-7d57b2f8d4c4",
   "metadata": {},
   "outputs": [],
   "source": [
    "tokenizer = AutoTokenizer.from_pretrained(model_id, trust_remote_code=True)"
   ]
  },
  {
   "cell_type": "code",
   "execution_count": 7,
   "id": "434047b0-2814-4a7d-8b36-26bb8cea6ef9",
   "metadata": {},
   "outputs": [
    {
     "data": {
      "text/plain": [
       "50295"
      ]
     },
     "execution_count": 7,
     "metadata": {},
     "output_type": "execute_result"
    }
   ],
   "source": [
    "vocab = tokenizer.get_vocab()\n",
    "len(vocab)"
   ]
  },
  {
   "cell_type": "code",
   "execution_count": 8,
   "id": "b379b1d8-0ab9-44df-83ed-089795112f4d",
   "metadata": {},
   "outputs": [],
   "source": [
    "model = AutoModelForCausalLM.from_pretrained(\n",
    "    model_id,\n",
    "    revision=model_revision,\n",
    "    trust_remote_code=True,\n",
    "    # be careful with this?\n",
    "    # torch_dtype=torch.float16,\n",
    "    # attn_implementation=\"flash_attention_2\",\n",
    ")"
   ]
  },
  {
   "cell_type": "markdown",
   "id": "2c698778-7f3b-4cf8-8bfe-6b0c54849ca2",
   "metadata": {},
   "source": [
    "## Prune Model"
   ]
  },
  {
   "cell_type": "code",
   "execution_count": 9,
   "id": "9250468a-c3e1-498a-8799-bbbbc763f086",
   "metadata": {},
   "outputs": [],
   "source": [
    "from baseline_pruners import prune_mlps, prune_mlp_magnitude, prune_mlp_random\n",
    "from importances import get_mlps"
   ]
  },
  {
   "cell_type": "code",
   "execution_count": 10,
   "id": "e11be390-99df-4b99-9e18-25255d3d269b",
   "metadata": {},
   "outputs": [],
   "source": [
    "mlps = get_mlps(model)"
   ]
  },
  {
   "cell_type": "code",
   "execution_count": 11,
   "id": "c09f65eb-a676-437b-815f-6ca0234a4a8d",
   "metadata": {},
   "outputs": [],
   "source": [
    "pruning_fn = prune_mlp_random if pruning_method == 'random' else prune_mlp_magnitude"
   ]
  },
  {
   "cell_type": "code",
   "execution_count": 12,
   "id": "1c222ae1-5dcd-4801-96dc-0ebdfd10666e",
   "metadata": {},
   "outputs": [],
   "source": [
    "prune_mlps(mlps, pruning_ratio/100, pruning_fn)"
   ]
  },
  {
   "cell_type": "code",
   "execution_count": 13,
   "id": "b96da5cc-9b2c-44e1-8b38-ef0592767ce0",
   "metadata": {},
   "outputs": [
    {
     "data": {
      "text/plain": [
       "PhiForCausalLM(\n",
       "  (model): PhiModel(\n",
       "    (embed_tokens): Embedding(51200, 2048)\n",
       "    (embed_dropout): Dropout(p=0.0, inplace=False)\n",
       "    (layers): ModuleList(\n",
       "      (0-23): 24 x PhiDecoderLayer(\n",
       "        (self_attn): PhiAttention(\n",
       "          (q_proj): Linear(in_features=2048, out_features=2048, bias=True)\n",
       "          (k_proj): Linear(in_features=2048, out_features=2048, bias=True)\n",
       "          (v_proj): Linear(in_features=2048, out_features=2048, bias=True)\n",
       "          (dense): Linear(in_features=2048, out_features=2048, bias=True)\n",
       "          (rotary_emb): PhiRotaryEmbedding()\n",
       "        )\n",
       "        (mlp): PhiMLP(\n",
       "          (activation_fn): NewGELUActivation()\n",
       "          (fc1): Linear(in_features=2048, out_features=6554, bias=True)\n",
       "          (fc2): Linear(in_features=6554, out_features=2048, bias=True)\n",
       "        )\n",
       "        (input_layernorm): LayerNorm((2048,), eps=1e-05, elementwise_affine=True)\n",
       "        (resid_dropout): Dropout(p=0.0, inplace=False)\n",
       "      )\n",
       "    )\n",
       "    (final_layernorm): LayerNorm((2048,), eps=1e-05, elementwise_affine=True)\n",
       "  )\n",
       "  (lm_head): Linear(in_features=2048, out_features=51200, bias=True)\n",
       ")"
      ]
     },
     "execution_count": 13,
     "metadata": {},
     "output_type": "execute_result"
    }
   ],
   "source": [
    "model"
   ]
  },
  {
   "cell_type": "markdown",
   "id": "f366bf82-994f-4b0d-8062-77cc8525d47c",
   "metadata": {
    "id": "2C-2xbL_z6yG"
   },
   "source": [
    "## Metric Callback"
   ]
  },
  {
   "cell_type": "code",
   "execution_count": 14,
   "id": "1b6b9c58-f80f-4213-b612-4dce82e45799",
   "metadata": {
    "id": "LF4vQbKrz551"
   },
   "outputs": [],
   "source": [
    "from transformers import TrainerCallback"
   ]
  },
  {
   "cell_type": "code",
   "execution_count": 15,
   "id": "21d4bfb3-1950-46ba-b398-364b0d90603a",
   "metadata": {
    "id": "pirt-rV9z53V"
   },
   "outputs": [],
   "source": [
    "from evaluation import evaluate_on_nlp_tasks"
   ]
  },
  {
   "cell_type": "code",
   "execution_count": 16,
   "id": "64c48ce5-8434-4460-b0d4-bef3204cbd55",
   "metadata": {
    "id": "DfLpyjUEz50K"
   },
   "outputs": [],
   "source": [
    "class AccEvalCallback(TrainerCallback):\n",
    "    def __init__(self):\n",
    "        super().__init__()\n",
    "        self.last_step=-1\n",
    "\n",
    "    def on_evaluate(self, args, state, control, model, **kwargs):\n",
    "        if state.global_step == self.last_step:\n",
    "            return\n",
    "        self.last_step = state.global_step\n",
    "        train = model.training\n",
    "        model.eval()\n",
    "        with torch.no_grad():\n",
    "            os.environ[\"TQDM_DISABLE\"] = \"1\"\n",
    "            eval_res = evaluate_on_nlp_tasks(model, tokenizer, limit=100, do_shuffle=True)[\"results\"]\n",
    "            # import pdb; pdb.set_trace()\n",
    "            eval_res = {k:v[\"acc,none\"] for k,v in eval_res.items()}\n",
    "            for k, v in eval_res.items():\n",
    "                state.log_history.append(\n",
    "                    {\n",
    "                        k:v,\n",
    "                        \"epoch\":state.epoch,\n",
    "                        \"step\":state.global_step,\n",
    "                    }\n",
    "                )\n",
    "            del os.environ['TQDM_DISABLE']\n",
    "            print(eval_res)\n",
    "        model.train(train)"
   ]
  },
  {
   "cell_type": "code",
   "execution_count": 17,
   "id": "4a6b789f-e6a3-47dc-a70c-b4a7797c9e52",
   "metadata": {},
   "outputs": [],
   "source": [
    "class SaveCallback(TrainerCallback):\n",
    "    def __init__(self, save_path):\n",
    "        super().__init__()\n",
    "        self.save_path = save_path\n",
    "        self.last_step=-1\n",
    "\n",
    "    def on_evaluate(self, args, state, control, model, **kwargs):\n",
    "        if state.global_step == self.last_step:\n",
    "            return\n",
    "        self.last_step = state.global_step\n",
    "        try:\n",
    "            torch.save(model.state_dict(), self.save_path)\n",
    "        except Exception as e:\n",
    "            print(f\"error saving {e}\")"
   ]
  },
  {
   "cell_type": "markdown",
   "id": "028756c1-b952-49e2-acad-476c47285710",
   "metadata": {},
   "source": [
    "## Train model"
   ]
  },
  {
   "cell_type": "code",
   "execution_count": 18,
   "id": "d3b61461-c77a-498c-b35c-c25e7188e9a2",
   "metadata": {},
   "outputs": [],
   "source": [
    "from peft import LoraConfig, PeftConfig\n",
    "import transformers"
   ]
  },
  {
   "cell_type": "code",
   "execution_count": 19,
   "id": "b5f8ba3c-7105-4836-b44b-67ad39f908e3",
   "metadata": {},
   "outputs": [],
   "source": [
    "from post_training import get_lora_config, get_training_arguments\n",
    "from dataset import get_baseline_dataset\n",
    "from trl import SFTTrainer"
   ]
  },
  {
   "cell_type": "code",
   "execution_count": 20,
   "id": "f2762576-56bf-4b88-8d9e-71388e4446a9",
   "metadata": {},
   "outputs": [],
   "source": [
    "lora_config = get_lora_config()\n",
    "training_arguments = get_training_arguments(\"./tmp\")"
   ]
  },
  {
   "cell_type": "code",
   "execution_count": 21,
   "id": "ad26f2bb-f8ec-4c3b-9a2c-cfd92da7ecf8",
   "metadata": {},
   "outputs": [],
   "source": [
    "model.cuda();"
   ]
  },
  {
   "cell_type": "code",
   "execution_count": 22,
   "id": "bc563e00-7011-41c3-b548-9bab5fdb3fba",
   "metadata": {},
   "outputs": [],
   "source": [
    "model.config.use_cache = False\n",
    "model.config.pretraining_tp = 1\n",
    "model.gradient_checkpointing_enable()"
   ]
  },
  {
   "cell_type": "code",
   "execution_count": 23,
   "id": "6927d003-e04d-4399-a32a-a13dd04a61dc",
   "metadata": {},
   "outputs": [
    {
     "name": "stdout",
     "output_type": "stream",
     "text": [
      "reading pickle\n"
     ]
    }
   ],
   "source": [
    "dataset = get_baseline_dataset()\n",
    "train_data, eval_data = dataset[\"train\"], dataset[\"test\"]"
   ]
  },
  {
   "cell_type": "code",
   "execution_count": 24,
   "id": "9fafbd2f-2df9-422c-bf54-b4805c964c94",
   "metadata": {},
   "outputs": [],
   "source": [
    "tokenizer.pad_token = tokenizer.eos_token\n",
    "training_arguments.save_strategy=\"no\"\n",
    "training_arguments.eval_steps = 100"
   ]
  },
  {
   "cell_type": "code",
   "execution_count": 25,
   "id": "424b1097-0953-4a49-bb46-ec14ff2433d9",
   "metadata": {},
   "outputs": [],
   "source": [
    "save_path = f\"./tmp/{pruning_method}_{pruning_ratio}_state_dict\"\n",
    "callbacks = [AccEvalCallback(), SaveCallback(save_path)]"
   ]
  },
  {
   "cell_type": "code",
   "execution_count": 26,
   "id": "e59a8478-4378-4fd3-b938-d6fe52fe4050",
   "metadata": {},
   "outputs": [
    {
     "name": "stderr",
     "output_type": "stream",
     "text": [
      "Map: 100%|██████████| 50000/50000 [00:27<00:00, 1806.43 examples/s]\n",
      "Map: 100%|██████████| 2000/2000 [00:01<00:00, 1743.68 examples/s]\n",
      "2024-03-11:19:05:27,152 WARNING  [logging.py:61] Detected kernel version 4.18.0, which is below the recommended minimum of 5.5.0; this can cause the process to hang. It is recommended to upgrade the kernel to the minimum version or higher.\n"
     ]
    }
   ],
   "source": [
    "trainer = SFTTrainer(\n",
    "    model=model,\n",
    "    train_dataset=train_data,\n",
    "    eval_dataset=eval_data,\n",
    "    peft_config=lora_config,\n",
    "    tokenizer=tokenizer,\n",
    "    args=training_arguments,\n",
    "    packing=False,\n",
    "    dataset_text_field=\"text\",\n",
    "    max_seq_length=1024, # tweak this\n",
    "    # TODO: think harder about the datacollator\n",
    "    # data_collator=transformers.DataCollatorForSeq2Seq(\n",
    "    #     tokenizer, pad_to_multiple_of=8, return_tensors=\"pt\", padding=True\n",
    "    # ),\n",
    "    callbacks=callbacks,\n",
    ")"
   ]
  },
  {
   "cell_type": "markdown",
   "id": "923aa3d3",
   "metadata": {},
   "source": [
    "## Before training performance evaluation"
   ]
  },
  {
   "cell_type": "code",
   "execution_count": 27,
   "id": "c7043bd1-168e-40c2-b036-842f0f05f1f8",
   "metadata": {},
   "outputs": [],
   "source": [
    "from evaluation import evaluate_on_nlp_tasks"
   ]
  },
  {
   "cell_type": "code",
   "execution_count": null,
   "id": "14603e19-b51b-4f71-965e-07d5f8cfe46a",
   "metadata": {},
   "outputs": [
    {
     "data": {
      "text/html": [
       "\n",
       "    <div>\n",
       "      \n",
       "      <progress value='250' max='250' style='width:300px; height:20px; vertical-align: middle;'></progress>\n",
       "      [250/250 03:52]\n",
       "    </div>\n",
       "    "
      ],
      "text/plain": [
       "<IPython.core.display.HTML object>"
      ]
     },
     "metadata": {},
     "output_type": "display_data"
    },
    {
     "name": "stderr",
     "output_type": "stream",
     "text": [
      "\u001b[34m\u001b[1mwandb\u001b[0m: Currently logged in as: \u001b[33mandriv\u001b[0m (\u001b[33mandriai\u001b[0m). Use \u001b[1m`wandb login --relogin`\u001b[0m to force relogin\n"
     ]
    },
    {
     "data": {
      "text/html": [
       "wandb version 0.16.4 is available!  To upgrade, please run:\n",
       " $ pip install wandb --upgrade"
      ],
      "text/plain": [
       "<IPython.core.display.HTML object>"
      ]
     },
     "metadata": {},
     "output_type": "display_data"
    },
    {
     "data": {
      "text/html": [
       "Tracking run with wandb version 0.16.3"
      ],
      "text/plain": [
       "<IPython.core.display.HTML object>"
      ]
     },
     "metadata": {},
     "output_type": "display_data"
    },
    {
     "data": {
      "text/html": [
       "Run data is saved locally in <code>/home/research/andriv/cs229/cs229-project/wandb/run-20240311_190923-ovden3z1</code>"
      ],
      "text/plain": [
       "<IPython.core.display.HTML object>"
      ]
     },
     "metadata": {},
     "output_type": "display_data"
    },
    {
     "data": {
      "text/html": [
       "Syncing run <strong><a href='https://wandb.ai/andriai/huggingface/runs/ovden3z1' target=\"_blank\">dashing-gorge-26</a></strong> to <a href='https://wandb.ai/andriai/huggingface' target=\"_blank\">Weights & Biases</a> (<a href='https://wandb.me/run' target=\"_blank\">docs</a>)<br/>"
      ],
      "text/plain": [
       "<IPython.core.display.HTML object>"
      ]
     },
     "metadata": {},
     "output_type": "display_data"
    },
    {
     "data": {
      "text/html": [
       " View project at <a href='https://wandb.ai/andriai/huggingface' target=\"_blank\">https://wandb.ai/andriai/huggingface</a>"
      ],
      "text/plain": [
       "<IPython.core.display.HTML object>"
      ]
     },
     "metadata": {},
     "output_type": "display_data"
    },
    {
     "data": {
      "text/html": [
       " View run at <a href='https://wandb.ai/andriai/huggingface/runs/ovden3z1' target=\"_blank\">https://wandb.ai/andriai/huggingface/runs/ovden3z1</a>"
      ],
      "text/plain": [
       "<IPython.core.display.HTML object>"
      ]
     },
     "metadata": {},
     "output_type": "display_data"
    },
    {
     "name": "stderr",
     "output_type": "stream",
     "text": [
      "2024-03-11:19:09:31,428 WARNING  [huggingface.py:105] `pretrained` model kwarg is not of type `str`. Many other model arguments may be ignored. Please do not launch via accelerate or use `parallelize=True` if passing an existing model this way.\n",
      "2024-03-11:19:09:31,454 WARNING  [huggingface.py:315] Passed an already-initialized model through `pretrained`, assuming single-process call to evaluate() or custom distributed integration\n"
     ]
    },
    {
     "name": "stdout",
     "output_type": "stream",
     "text": [
      "will shuffle dataset\n"
     ]
    }
   ],
   "source": [
    "trainer.evaluate()"
   ]
  },
  {
   "cell_type": "code",
   "execution_count": null,
   "id": "2654ae7c-ffdd-49ea-89eb-a5159af7c3a5",
   "metadata": {
    "id": "UIJuACQB0coM"
   },
   "outputs": [],
   "source": [
    "model.eval()"
   ]
  },
  {
   "cell_type": "code",
   "execution_count": null,
   "id": "67b4a213-4a20-49a8-8154-e25f8a6ddda5",
   "metadata": {
    "id": "jwdG7Lhi2gZy"
   },
   "outputs": [],
   "source": [
    "eval_res_orig = evaluate_on_nlp_tasks(model, tokenizer, limit=1000, bootstrap_iters=1000, do_shuffle=False)"
   ]
  },
  {
   "cell_type": "code",
   "execution_count": null,
   "id": "54454ece-7445-452d-bb2d-97846f021854",
   "metadata": {
    "id": "MHH9Nq8v2fxj"
   },
   "outputs": [],
   "source": [
    "eval_res_orig[\"results\"]"
   ]
  },
  {
   "cell_type": "code",
   "execution_count": null,
   "id": "7d65b3d7-9c6e-4fa9-a409-2d13d15b6e49",
   "metadata": {
    "id": "bVcMBezD0cmW"
   },
   "outputs": [],
   "source": [
    "eval_res = evaluate_on_nlp_tasks(model, tokenizer, limit=1000, bootstrap_iters=1000, do_shuffle=True)"
   ]
  },
  {
   "cell_type": "code",
   "execution_count": null,
   "id": "7ce816fe-a0c6-40ba-9fc1-d33d748571cb",
   "metadata": {
    "id": "MN9Nehnd0ckE"
   },
   "outputs": [],
   "source": [
    "eval_res[\"results\"]"
   ]
  },
  {
   "cell_type": "markdown",
   "id": "769875a2-e825-4cce-9546-5ad22847a9c4",
   "metadata": {},
   "source": [
    "## Training"
   ]
  },
  {
   "cell_type": "code",
   "execution_count": null,
   "id": "2fbe5907-a668-4dec-8b3f-24bd45913b23",
   "metadata": {},
   "outputs": [],
   "source": [
    "model.train()"
   ]
  },
  {
   "cell_type": "code",
   "execution_count": null,
   "id": "6c114811-973f-4b48-aa39-afb752d4b4b4",
   "metadata": {},
   "outputs": [],
   "source": [
    "train_res = trainer.train()"
   ]
  },
  {
   "cell_type": "code",
   "execution_count": null,
   "id": "12ebaa77-b4dd-450d-973b-dc4a47465fb2",
   "metadata": {
    "scrolled": true
   },
   "outputs": [],
   "source": [
    "pd.to_pickle(trainer.state, f\"./tmp/{pruning_method}_{pruning_ratio}.pkl\")"
   ]
  },
  {
   "cell_type": "code",
   "execution_count": null,
   "id": "d21577ec-dd89-4189-ae61-c888258355a7",
   "metadata": {},
   "outputs": [],
   "source": [
    "trainer_state = trainer.state\n",
    "pd.DataFrame(trainer_state.log_history).tail()"
   ]
  },
  {
   "cell_type": "markdown",
   "id": "331846f1-301e-4c5c-9db5-421530189f96",
   "metadata": {},
   "source": [
    "## Post-training performance evaluation:"
   ]
  },
  {
   "cell_type": "code",
   "execution_count": null,
   "id": "8e0d4cb5-5d42-4f9f-a344-e9d8abfb7a61",
   "metadata": {},
   "outputs": [],
   "source": [
    "valid_loss = pd.DataFrame(trainer_state.log_history)[[\"step\", \"eval_loss\"]].set_index(\"step\").dropna()"
   ]
  },
  {
   "cell_type": "code",
   "execution_count": null,
   "id": "37357185-3129-48d1-b9a3-3bf11b50fed5",
   "metadata": {},
   "outputs": [],
   "source": [
    "valid_loss"
   ]
  },
  {
   "cell_type": "code",
   "execution_count": null,
   "id": "799738cb-e946-4dd6-a49d-9654f33f7e6d",
   "metadata": {},
   "outputs": [],
   "source": [
    "valid_loss.plot()"
   ]
  },
  {
   "cell_type": "code",
   "execution_count": null,
   "id": "26465a11-d2e5-4ef5-a3ea-5e58cad1c384",
   "metadata": {
    "id": "HYj7J7Ga0cxX"
   },
   "outputs": [],
   "source": [
    "from evaluation import evaluate_on_nlp_tasks"
   ]
  },
  {
   "cell_type": "code",
   "execution_count": null,
   "id": "b1cc0568-4baf-49ad-8ba5-86c7f390bca9",
   "metadata": {
    "id": "kkFRTLMY0cu_"
   },
   "outputs": [],
   "source": [
    "model.eval();"
   ]
  },
  {
   "cell_type": "code",
   "execution_count": null,
   "id": "4354c7b8-6481-43b4-a2da-a176f54c1b10",
   "metadata": {
    "id": "4XCa4Oob0csn"
   },
   "outputs": [],
   "source": [
    "with torch.no_grad():\n",
    "    eval_res = evaluate_on_nlp_tasks(model, tokenizer, limit=300, do_shuffle=True)"
   ]
  },
  {
   "cell_type": "code",
   "execution_count": null,
   "id": "23b58fb5-359d-4ed9-953c-0ee79bb7e132",
   "metadata": {
    "id": "gcoKz3me0cqZ"
   },
   "outputs": [],
   "source": [
    "eval_res[\"results\"]"
   ]
  },
  {
   "cell_type": "code",
   "execution_count": null,
   "id": "7e015492-dea1-4c67-bc35-6fdc2103c21f",
   "metadata": {
    "id": "jwdG7Lhi2gZy"
   },
   "outputs": [],
   "source": [
    "eval_res_orig = evaluate_on_nlp_tasks(model, tokenizer, limit=1000, bootstrap_iters=1000, do_shuffle=False)"
   ]
  },
  {
   "cell_type": "code",
   "execution_count": null,
   "id": "0f989ed8-d3b1-43c6-b17c-e9ca9b40b403",
   "metadata": {
    "id": "MHH9Nq8v2fxj"
   },
   "outputs": [],
   "source": [
    "eval_res_orig[\"results\"]"
   ]
  },
  {
   "cell_type": "code",
   "execution_count": null,
   "id": "1e3c378b-33a2-4a83-8f65-d58e294da28f",
   "metadata": {
    "id": "bVcMBezD0cmW"
   },
   "outputs": [],
   "source": [
    "eval_res = evaluate_on_nlp_tasks(model, tokenizer, limit=1000, bootstrap_iters=1000, do_shuffle=True)"
   ]
  },
  {
   "cell_type": "code",
   "execution_count": null,
   "id": "41d46f97-30a8-42db-95ea-576d0d491de2",
   "metadata": {
    "id": "MN9Nehnd0ckE"
   },
   "outputs": [],
   "source": [
    "eval_res[\"results\"]"
   ]
  },
  {
   "cell_type": "markdown",
   "id": "b947893c-f717-400d-ac78-789787e766f6",
   "metadata": {
    "id": "y-fvt2k00o3m"
   },
   "source": [
    "# Save"
   ]
  },
  {
   "cell_type": "code",
   "execution_count": null,
   "id": "efb483d9-2e71-4cf1-a5e5-2bd5cd87ae91",
   "metadata": {
    "id": "iMherTxT0ou9"
   },
   "outputs": [],
   "source": [
    "model.cpu();"
   ]
  },
  {
   "cell_type": "code",
   "execution_count": null,
   "id": "0a48f383-135a-459e-8840-815da26a82b7",
   "metadata": {
    "id": "DNeG2dFE0ose"
   },
   "outputs": [],
   "source": [
    "torch.save(model.state_dict(), save_path)"
   ]
  },
  {
   "cell_type": "markdown",
   "id": "176a4ac1-2dde-4dbd-a8a7-2195bfb8a562",
   "metadata": {
    "id": "RByHgPZC0xpQ"
   },
   "source": [
    "# Stats"
   ]
  },
  {
   "cell_type": "code",
   "execution_count": null,
   "id": "9856b73a-f393-4d45-88b9-1af36fa8e6d7",
   "metadata": {},
   "outputs": [],
   "source": [
    "import pandas as pd"
   ]
  },
  {
   "cell_type": "code",
   "execution_count": null,
   "id": "0ac6dd78-11d9-4c5b-aa7f-1144c09010bc",
   "metadata": {},
   "outputs": [],
   "source": [
    "trainer_state = pd.read_pickle(f\"tmp_logs/{pruning_method}_{pruning_ratio}.pkl\")"
   ]
  },
  {
   "cell_type": "code",
   "execution_count": null,
   "id": "a1e1f9ce-9b9a-440b-bca6-3fe3f62bd63c",
   "metadata": {
    "id": "FHmMlRa_02Ep"
   },
   "outputs": [],
   "source": [
    "df = pd.DataFrame(trainer_state.log_history)"
   ]
  },
  {
   "cell_type": "code",
   "execution_count": null,
   "id": "dcd30e1a-ef62-4df3-8f48-04a933bfcf77",
   "metadata": {
    "id": "mKCfP4JM02Ct"
   },
   "outputs": [],
   "source": [
    "metrics_df = df[[\"step\", \"hellaswag\", \"piqa\", \"boolq\", \"winogrande\"]]"
   ]
  },
  {
   "cell_type": "code",
   "execution_count": null,
   "id": "4a8bfc19-bbfd-4c0f-a99e-041278fdd018",
   "metadata": {},
   "outputs": [],
   "source": [
    "metrics_df.ffill().tail()"
   ]
  },
  {
   "cell_type": "code",
   "execution_count": null,
   "id": "0fc05b4f-37a6-4992-9f57-f0a3d1eddc11",
   "metadata": {
    "id": "yAwQFeiz02AS"
   },
   "outputs": [],
   "source": [
    "metrics_df[[\"step\", \"boolq\"]].dropna().set_index(\"step\").plot()"
   ]
  },
  {
   "cell_type": "code",
   "execution_count": null,
   "id": "1ab997de-7eae-4049-ba26-b04ed5c19f3d",
   "metadata": {
    "id": "8F9ss7Hg01-K"
   },
   "outputs": [],
   "source": [
    "metrics_df[[\"step\", \"hellaswag\"]].dropna().set_index(\"step\").plot()"
   ]
  },
  {
   "cell_type": "code",
   "execution_count": null,
   "id": "6eb5edce-7643-41d4-aba9-26c5d6a4cad5",
   "metadata": {
    "id": "1YGrsE8R0172"
   },
   "outputs": [],
   "source": [
    "metrics_df = df[[\"step\", \"piqa\"]].dropna().set_index(\"step\").plot()"
   ]
  },
  {
   "cell_type": "code",
   "execution_count": null,
   "id": "507b2e5e-1b58-46f7-a53a-52b8cb14bce5",
   "metadata": {
    "id": "1PvB0OVV015b"
   },
   "outputs": [],
   "source": [
    "metrics_df = df[[\"step\", \"winogrande\"]].dropna().set_index(\"step\").plot()"
   ]
  }
 ],
 "metadata": {
  "kernelspec": {
   "display_name": "Python 3",
   "language": "python",
   "name": "python3"
  },
  "language_info": {
   "codemirror_mode": {
    "name": "ipython",
    "version": 3
   },
   "file_extension": ".py",
   "mimetype": "text/x-python",
   "name": "python",
   "nbconvert_exporter": "python",
   "pygments_lexer": "ipython3",
   "version": "3.9.18"
  }
 },
 "nbformat": 4,
 "nbformat_minor": 5
}
