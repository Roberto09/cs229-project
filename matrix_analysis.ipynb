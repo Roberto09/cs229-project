{
 "cells": [
  {
   "cell_type": "code",
   "execution_count": 1,
   "metadata": {},
   "outputs": [
    {
     "name": "stderr",
     "output_type": "stream",
     "text": [
      "/home/daniel/miniconda3/lib/python3.11/site-packages/tqdm/auto.py:21: TqdmWarning: IProgress not found. Please update jupyter and ipywidgets. See https://ipywidgets.readthedocs.io/en/stable/user_install.html\n",
      "  from .autonotebook import tqdm as notebook_tqdm\n",
      "/home/daniel/miniconda3/lib/python3.11/site-packages/torch/_utils.py:831: UserWarning: TypedStorage is deprecated. It will be removed in the future and UntypedStorage will be the only storage class. This should only matter to you if you are using storages directly.  To access UntypedStorage directly, use tensor.untyped_storage() instead of tensor.storage()\n",
      "  return self.fget.__get__(instance, owner)()\n"
     ]
    }
   ],
   "source": [
    "import torch\n",
    "import itertools\n",
    "from transformers import AutoModelForCausalLM, AutoTokenizer\n",
    "import pandas as pd\n",
    "import numpy as np\n",
    "import matplotlib.pyplot as plt\n",
    "\n",
    "model_id = \"microsoft/phi-1_5\"\n",
    "model_revision = \"349cf8b5e81fd5f791d1740da5de1313a0419bbd\" # latest as of feb 1st\n",
    "\n",
    "model = AutoModelForCausalLM.from_pretrained(\n",
    "    model_id,\n",
    "    revision=model_revision,\n",
    "    trust_remote_code=True,\n",
    "    # be careful with this?\n",
    "    torch_dtype=torch.float16,\n",
    "    # attn_implementation=\"flash_attention_2\",\n",
    ")"
   ]
  },
  {
   "cell_type": "code",
   "execution_count": 2,
   "metadata": {},
   "outputs": [],
   "source": [
    "def get_cosine_sim(A):\n",
    "\n",
    "    A_normalized = A.float().detach().numpy() / np.linalg.norm(A.float().detach().numpy(), axis=1)[:, np.newaxis]\n",
    "    cosine_sim = np.dot(A_normalized, A_normalized.T)\n",
    "\n",
    "    upp_tri = np.triu(cosine_sim, k=1)\n",
    "    sim = upp_tri.flatten()\n",
    "    sim = sim[sim != 0]\n",
    "\n",
    "    sorted_sim = np.sort(sim)[::-1]\n",
    "\n",
    "\n",
    "\n",
    "    height, width = A.shape[0], A.shape[1]\n",
    "\n",
    "    rand_uni = np.random.uniform(-1, 1, (height, width))\n",
    "    rand_n = np.random.randn(height, width)\n",
    "\n",
    "    rand_uni = rand_uni / np.linalg.norm(rand_uni, axis=1)[:, np.newaxis]\n",
    "    rand_n = rand_n / np.linalg.norm(rand_n, axis=1)[:, np.newaxis]\n",
    "\n",
    "    cosine_sim_uni = np.dot(rand_uni, rand_uni.T)\n",
    "    upp_tri_uni = np.triu(cosine_sim_uni, k=1)\n",
    "    sim_uni = upp_tri_uni.flatten()\n",
    "    sim_uni = sim_uni[sim_uni != 0]\n",
    "    sorted_rand_uni = np.sort(sim_uni)[::-1]\n",
    "\n",
    "    cosine_sim_n = np.dot(rand_n, rand_n.T)\n",
    "    upp_tri_n = np.triu(cosine_sim_n, k=1)\n",
    "    sim_n = upp_tri_n.flatten()\n",
    "    sim_n = sim_n[sim_n != 0]\n",
    "    sorted_rand_n = np.sort(sim_n)[::-1]\n",
    "\n",
    "    return sorted_sim, sorted_rand_uni, sorted_rand_n"
   ]
  },
  {
   "cell_type": "code",
   "execution_count": 3,
   "metadata": {},
   "outputs": [],
   "source": [
    "A = model.get_submodule(\"model\").get_submodule(\"layers\")[0].get_submodule(\"mlp\").fc1.weight"
   ]
  },
  {
   "cell_type": "code",
   "execution_count": 4,
   "metadata": {},
   "outputs": [
    {
     "ename": "",
     "evalue": "",
     "output_type": "error",
     "traceback": [
      "\u001b[1;31mThe Kernel crashed while executing code in the current cell or a previous cell. \n",
      "\u001b[1;31mPlease review the code in the cell(s) to identify a possible cause of the failure. \n",
      "\u001b[1;31mClick <a href='https://aka.ms/vscodeJupyterKernelCrash'>here</a> for more info. \n",
      "\u001b[1;31mView Jupyter <a href='command:jupyter.viewOutput'>log</a> for further details."
     ]
    }
   ],
   "source": [
    "sorted_sim, sorted_rand_uni, sorted_rand_normal = get_cosine_sim(A)"
   ]
  },
  {
   "cell_type": "code",
   "execution_count": null,
   "metadata": {},
   "outputs": [],
   "source": [
    "def select_entries(vector):\n",
    "    return vector[np.append(np.arange(0, len(vector), 10), len(vector)-1)]\n",
    "\n",
    "# Applying the function to each vector\n",
    "selected_sorted = select_entries(sorted_sim)\n",
    "selected_sorted_rand_normal = select_entries(sorted_rand_normal)\n",
    "selected_sorted_rand_uni = select_entries(sorted_rand_uni)\n",
    "\n",
    "# Indices to plot (for x-axis)\n",
    "indices = np.append(np.arange(0, len(sorted_rand_uni), 10), len(sorted_rand_uni)-1)\n",
    "\n",
    "plt.figure(figsize=(10, 6))\n",
    "plt.plot(indices, selected_sorted, label='real')\n",
    "plt.plot(indices, selected_sorted_rand_normal, label='rand_normal')\n",
    "plt.plot(indices, selected_sorted_rand_uni, label='rand_uni')\n",
    "plt.title('Cosine Similarities (No Duplicates or Self-Similarities)')\n",
    "plt.xlabel('Index')\n",
    "plt.ylabel('Cosine Similarity')\n",
    "plt.ylim(-1, 1)\n",
    "plt.axhline(y=0, color='brown', linestyle='-')\n",
    "plt.legend()\n",
    "plt.show()"
   ]
  }
 ],
 "metadata": {
  "kernelspec": {
   "display_name": "base",
   "language": "python",
   "name": "python3"
  },
  "language_info": {
   "codemirror_mode": {
    "name": "ipython",
    "version": 3
   },
   "file_extension": ".py",
   "mimetype": "text/x-python",
   "name": "python",
   "nbconvert_exporter": "python",
   "pygments_lexer": "ipython3",
   "version": "3.11.5"
  }
 },
 "nbformat": 4,
 "nbformat_minor": 2
}
