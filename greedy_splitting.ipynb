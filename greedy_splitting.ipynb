{
 "cells": [
  {
   "cell_type": "code",
   "execution_count": 1,
   "metadata": {},
   "outputs": [],
   "source": [
    "import torch\n",
    "from torch import nn\n",
    "from torch import optim\n",
    "from tqdm import tqdm\n",
    "import pandas as pd\n",
    "import numpy as np\n",
    "\n",
    "from weighted_svd_utils import weighted_frobenious, get_svd, rank_r, get_svd_lora, toy_correlated_matrix, toy_two_subspace_matrix, toy_seven_subspace_matrix\n"
   ]
  },
  {
   "cell_type": "code",
   "execution_count": 2,
   "metadata": {},
   "outputs": [],
   "source": [
    "def flops_from_svd(U, S, V):\n",
    "    ret = 2 * (V.shape[0] * V.shape[1] + U.shape[0] * U.shape[1]) + S.shape[0] if U != None and S != None and V != None else 0\n",
    "    return ret"
   ]
  },
  {
   "cell_type": "code",
   "execution_count": 3,
   "metadata": {},
   "outputs": [],
   "source": [
    "def find_optimal_rank_allocation_F2(mat1, mat2, flops):\n",
    "    mat1_flops = 2 * mat1.shape[0] * mat1.shape[1] if mat1 != None else 0.0\n",
    "    mat2_flops = 2 * mat2.shape[0] * mat2.shape[1] if mat2 != None else 0.0\n",
    "    u1, s1, v1 = get_svd(mat1) if mat1 != None else (None, None, None)\n",
    "    u2, s2, v2 = get_svd(mat2) if mat2 != None else (None, None, None)\n",
    "    svd1_flops = flops_from_svd(u1, s1, v1)\n",
    "    svd2_flops = flops_from_svd(u2, s2, v2)\n",
    "    flops_per_sv_1 = 2 * v1.shape[0] + 2 * u1.shape[0] if mat1 != None else 0.0\n",
    "    flops_per_sv_2 = 2 * v2.shape[0] + 2 * u2.shape[0] if mat2 != None else 0.0\n",
    "\n",
    "    #F2_loss_1 = torch.diag(s1) if mat1 != None else []\n",
    "    F2_loss_1 = [s*s for s in s1] if mat1 != None else [] \n",
    "    #F2_loss_2 = torch.diag(s2) if mat2 != None else []\n",
    "    F2_loss_2 = [s*s for s in s2] if mat2 != None else []\n",
    "\n",
    "    r1 = s1.shape[0] if mat1 != None else 0\n",
    "    r2 = s2.shape[0] if mat2 != None else 0\n",
    "\n",
    "    min_F2_loss = torch.inf\n",
    "\n",
    "    if (mat1 == None and mat2 == None):\n",
    "        print(\"Warning! Both matrices empty!\")\n",
    "\n",
    "    # Find the best split given that both matrices are SV-decomposed\n",
    "    if (mat1 != None and mat2 != None):\n",
    "        flops_both_svd = svd1_flops + svd2_flops\n",
    "        F2_loss_both_svd = 0\n",
    "        i1_both_svd = r1 - 1\n",
    "        i2_both_svd = r2 - 1\n",
    "        while flops_both_svd > flops:\n",
    "            F2_per_flops_1 = F2_loss_1[i1_both_svd] / flops_per_sv_1\n",
    "            F2_per_flops_2 = F2_loss_2[i2_both_svd] / flops_per_sv_2\n",
    "\n",
    "            if (F2_per_flops_1 < F2_per_flops_2 or i2_both_svd == 0) and i1_both_svd > 0:\n",
    "                F2_loss_both_svd += F2_loss_1[i1_both_svd]\n",
    "                flops_both_svd -= flops_per_sv_1\n",
    "                i1_both_svd -= 1\n",
    "            elif i2_both_svd > 0:\n",
    "                F2_loss_both_svd += F2_loss_2[i2_both_svd]\n",
    "                flops_both_svd -= flops_per_sv_2\n",
    "                i2_both_svd -= 1\n",
    "\n",
    "        r1_optimal = i1_both_svd + 1\n",
    "        r2_optimal = i2_both_svd + 1\n",
    "        min_F2_loss = F2_loss_both_svd\n",
    "        flops1 = r1_optimal * flops_per_sv_1\n",
    "        flops2 = r2_optimal * flops_per_sv_2\n",
    "\n",
    "    # Find the best split given that only mat1 is SV-decomposed\n",
    "    if mat1 != None:\n",
    "        flops_mat1_svd = svd1_flops + mat2_flops\n",
    "        F2_loss_mat1_svd = 0\n",
    "        i1_mat1_svd = r1 - 1\n",
    "        while flops_mat1_svd > flops and i1_mat1_svd > 0:\n",
    "            F2_loss_mat1_svd += F2_loss_1[i1_mat1_svd]\n",
    "            flops_mat1_svd -= flops_per_sv_1\n",
    "            i1_mat1_svd -= 1\n",
    "\n",
    "        if i1_mat1_svd <= 1:\n",
    "            F2_loss_mat1_svd = torch.inf\n",
    "\n",
    "        if F2_loss_mat1_svd < min_F2_loss:\n",
    "            r1_optimal = i1_mat1_svd + 1\n",
    "            r2_optimal = r2\n",
    "            min_F2_loss = F2_loss_mat1_svd\n",
    "            flops1 = r1_optimal * flops_per_sv_1\n",
    "            flops2 = mat2_flops\n",
    "\n",
    "    # Find the best split given that only mat2 is SV-decomposed\n",
    "    if mat2 != None:\n",
    "        flops_mat2_svd = mat1_flops + svd2_flops\n",
    "        F2_loss_mat2_svd = 0\n",
    "        i2_mat2_svd = r2 - 1\n",
    "        while flops_mat2_svd > flops and i2_mat2_svd > 0:\n",
    "            F2_loss_mat2_svd += F2_loss_2[i2_mat2_svd]\n",
    "            flops_mat2_svd -= flops_per_sv_2\n",
    "            i2_mat2_svd -= 1\n",
    "\n",
    "        if i2_mat2_svd <= 1:\n",
    "                F2_loss_mat2_svd = torch.inf\n",
    "\n",
    "        if F2_loss_mat2_svd < min_F2_loss:\n",
    "            r1_optimal = r1\n",
    "            r2_optimal = i2_mat2_svd + 1\n",
    "            min_F2_loss = F2_loss_mat2_svd\n",
    "            flops1 = mat1_flops\n",
    "            flops2 = r2_optimal * flops_per_sv_2\n",
    "\n",
    "    return (min_F2_loss, r1_optimal, r2_optimal, flops1, flops2)\n"
   ]
  },
  {
   "cell_type": "code",
   "execution_count": 4,
   "metadata": {},
   "outputs": [],
   "source": [
    "def get_proj_loss_F2(A_tuple_full, group1, group2, flops):\n",
    "    A_tuple_1 = [A_tuple_full[idx] for idx, row in group1]\n",
    "    A_tuple_2 = [A_tuple_full[idx] for idx, row in group2]\n",
    "\n",
    "    mat1 = torch.stack([row for idx, row in group1]) if group1 else None\n",
    "    mat2 = torch.stack([row for idx, row in group2]) if group2 else None\n",
    "\n",
    "    F2_loss, r1_optimal, r2_optimal, flops1, flops2 = find_optimal_rank_allocation_F2(mat1, mat2, flops)\n",
    "\n",
    "    # Check if F2 loss from singular values matches actual F2 of the difference\n",
    "    lora_1 = get_svd_lora(mat1, r1_optimal) if A_tuple_1 else None\n",
    "    lora_2 = get_svd_lora(mat2, r2_optimal) if A_tuple_2 else None\n",
    "    A_partial_1 = torch.stack([row for idx, row in A_tuple_1]) if A_tuple_1 else None\n",
    "    A_partial_2 = torch.stack([row for idx, row in A_tuple_2]) if A_tuple_2 else None\n",
    "    F_loss_1 = weighted_frobenious(A_partial_1, lora_1) if A_tuple_1 else 0.0\n",
    "    F_loss_2 = weighted_frobenious(A_partial_2, lora_2) if A_tuple_2 else 0.0\n",
    "    F2_loss_actual = F_loss_1 * F_loss_1 + F_loss_2 * F_loss_2\n",
    "\n",
    "    if torch.abs(F2_loss - F2_loss_actual) > 0.5:\n",
    "        print(f\"Warning! F2 losses dont match: {F2_loss} vs {F2_loss_actual}\")\n",
    "\n",
    "    return F2_loss, r1_optimal, r2_optimal, flops1, flops2\n",
    "\n"
   ]
  },
  {
   "cell_type": "code",
   "execution_count": 5,
   "metadata": {},
   "outputs": [],
   "source": [
    "def optimal_row_to_move_F2(A_tuple_full, sender, receiver, flops):\n",
    "    # current_best_F2_loss, _, _ = get_proj_loss_F2(A_tuple_full, sender, receiver, flops)\n",
    "    current_best_F2_loss = torch.inf\n",
    "    current_best_tuple = None\n",
    "    for tuple in sender:\n",
    "        s = list(sender)\n",
    "        r = list(receiver)\n",
    "\n",
    "        r.append(tuple)\n",
    "        s.remove(tuple)\n",
    "        F2_loss, _, _, _, _ = get_proj_loss_F2(A_tuple_full, s, r, flops)\n",
    "        if F2_loss < current_best_F2_loss:\n",
    "            current_best_F2_loss = F2_loss\n",
    "            current_best_tuple = tuple\n",
    "\n",
    "    return current_best_tuple, current_best_F2_loss"
   ]
  },
  {
   "cell_type": "code",
   "execution_count": 6,
   "metadata": {},
   "outputs": [],
   "source": [
    "def greedy_splitting_rows_F2(A, flops=None, printdepth = 1):\n",
    "\n",
    "    # Check if A is a single vector\n",
    "    if A.shape[0] == 1:\n",
    "        print(\"Attempting to split a single vector. Returning vector with zero loss.\")\n",
    "        return 0.0, 2 * A.shape[0] * A.shape[1]\n",
    "\n",
    "    if flops == None:\n",
    "        A_flops = 2 * A.shape[0] * A.shape[1]\n",
    "        flops = 0.5 * A_flops\n",
    "\n",
    "    print(f\"Depth: {printdepth}\")\n",
    "\n",
    "    A_tuple_full = [(i, row) for i, row in enumerate(A)]\n",
    "\n",
    "    sender_idx = 1 # 1 means group1, 2 means group2\n",
    "    optimal_group1 = list(A_tuple_full)\n",
    "    optimal_group2 = []\n",
    "\n",
    "    current_best_F2_loss, _, _, _, _ = get_proj_loss_F2(A_tuple_full, optimal_group1, optimal_group2, flops)\n",
    "    single_svd_F2_loss = current_best_F2_loss # For debugging, can remove later\n",
    "    print(f\"Loss from simple SVD: {single_svd_F2_loss}\")\n",
    "\n",
    "    while True:\n",
    "        current_best_F2_loss_for_direction, _, _, _, _ = get_proj_loss_F2(A_tuple_full, optimal_group1, optimal_group2, flops)\n",
    "        optimal_group1_for_direction = list(optimal_group1)\n",
    "        optimal_group2_for_direction = list(optimal_group2)\n",
    "        groups = [list(optimal_group1), list(optimal_group2)]\n",
    "        sender = groups[sender_idx - 1]\n",
    "        receiver = groups[-sender_idx]\n",
    "        while sender:\n",
    "            row_to_move, F2_loss = optimal_row_to_move_F2(A_tuple_full, sender, receiver, flops)\n",
    "            sender.remove(row_to_move)\n",
    "            receiver.append(row_to_move)\n",
    "            if F2_loss < current_best_F2_loss_for_direction:\n",
    "                optimal_group1_for_direction = list(groups[0])\n",
    "                optimal_group2_for_direction = list(groups[1])\n",
    "                current_best_F2_loss_for_direction = F2_loss\n",
    "\n",
    "        print(f\"Loss for direction: {current_best_F2_loss_for_direction}\")\n",
    "\n",
    "        if current_best_F2_loss_for_direction < current_best_F2_loss:\n",
    "            current_best_F2_loss = current_best_F2_loss_for_direction\n",
    "            optimal_group1 = list(optimal_group1_for_direction)\n",
    "            optimal_group2 = list(optimal_group2_for_direction)\n",
    "            sender_idx = 2 if sender_idx == 1 else 1\n",
    "            continue\n",
    "        else:\n",
    "            print(\"Optimal split found. Proceeding to split sub-matrices.\")\n",
    "            break\n",
    "\n",
    "    F2_loss, r1_optimal, r2_optimal, flops1, flops2 = get_proj_loss_F2(A_tuple_full, optimal_group1, optimal_group2, flops)\n",
    "    print(f\"Size of group 1: {len(optimal_group1)}\\nSize of group 2: {len(optimal_group2)}\")\n",
    "    print(f\"Rank of matrix 1: {r1_optimal}\\nRank of matrix 2: {r2_optimal}\")\n",
    "\n",
    "    if optimal_group1 and optimal_group2:\n",
    "        remainderflops = flops - flops1 - flops2 # TODO: Implement efficient usage of remainder flops in another branches\n",
    "        if remainderflops < 0:\n",
    "            print(\"Warning: Used more flops than allocated!\")\n",
    "        if r2_optimal <= 1:\n",
    "            flops1 += remainderflops\n",
    "        elif r1_optimal <= 1:\n",
    "            flops2 += remainderflops\n",
    "        else:\n",
    "            flops1 += int(remainderflops * 0.5)\n",
    "            flops2 += remainderflops - int(remainderflops * 0.5)\n",
    "\n",
    "        mat1 = torch.stack([row for idx, row in optimal_group1])\n",
    "        mat2 = torch.stack([row for idx, row in optimal_group2])\n",
    "        print(f\"Splitting sub-matrix 1 of depth = {printdepth} with {flops1} flops\")\n",
    "        F2_loss_1, flops1_actual = greedy_splitting_rows_F2(mat1, flops1, printdepth + 1)\n",
    "        print(f\"Splitting sub-matrix 2 of depth = {printdepth} with {flops2} flops\")\n",
    "        F2_loss_2, flops2_actual = greedy_splitting_rows_F2(mat2, flops2, printdepth + 1)\n",
    "        total_F2_loss = F2_loss_1 + F2_loss_2\n",
    "        total_actual_flops = flops1_actual + flops2_actual\n",
    "        return total_F2_loss, total_actual_flops\n",
    "    else:\n",
    "        print(\"No matrices to split.\")\n",
    "        flops1_actual = flops1\n",
    "        flops2_actual = flops2\n",
    "        total_F2_loss = F2_loss\n",
    "        total_actual_flops = flops1_actual + flops2_actual\n",
    "        return total_F2_loss, total_actual_flops"
   ]
  },
  {
   "cell_type": "code",
   "execution_count": 7,
   "metadata": {},
   "outputs": [],
   "source": [
    "A = toy_seven_subspace_matrix(80, 210, 12, True)"
   ]
  },
  {
   "cell_type": "code",
   "execution_count": 8,
   "metadata": {},
   "outputs": [
    {
     "data": {
      "text/plain": [
       "tensor([[ 1.3759,  1.0100,  1.3270,  ..., -0.6386,  1.5534, -3.6360],\n",
       "        [-1.4919, -2.6958, -5.4791,  ..., -0.9208,  2.2714,  4.6334],\n",
       "        [ 2.5923,  2.4036, -1.7378,  ...,  3.2576,  2.2373,  1.9948],\n",
       "        ...,\n",
       "        [-6.9214, -0.7655,  8.8818,  ...,  1.5633,  2.7789,  2.2670],\n",
       "        [-7.2989, -2.7452,  6.1330,  ...,  4.8135, -8.2404, -2.0497],\n",
       "        [ 1.2732, -0.6490, -0.2096,  ..., -0.3631, -2.1555,  0.5720]])"
      ]
     },
     "execution_count": 8,
     "metadata": {},
     "output_type": "execute_result"
    }
   ],
   "source": [
    "A"
   ]
  },
  {
   "cell_type": "code",
   "execution_count": 9,
   "metadata": {},
   "outputs": [
    {
     "name": "stdout",
     "output_type": "stream",
     "text": [
      "Depth: 1\n",
      "Loss from simple SVD: 37750.78125\n",
      "Loss for direction: 24158.76171875\n",
      "Loss for direction: 22925.611328125\n",
      "Loss for direction: 22925.611328125\n",
      "Optimal split found. Proceeding to split sub-matrices.\n",
      "Size of group 1: 120\n",
      "Size of group 2: 90\n",
      "Rank of matrix 1: 23\n",
      "Rank of matrix 2: 21\n",
      "Splitting sub-matrix 1 of depth = 1 with 9430 flops\n",
      "Depth: 2\n",
      "Loss from simple SVD: 15002.375\n",
      "Loss for direction: 9047.357421875\n",
      "Loss for direction: 9047.357421875\n",
      "Optimal split found. Proceeding to split sub-matrices.\n",
      "Size of group 1: 31\n",
      "Size of group 2: 89\n",
      "Rank of matrix 1: 10\n",
      "Rank of matrix 2: 21\n",
      "Splitting sub-matrix 1 of depth = 2 with 2276 flops\n",
      "Depth: 3\n",
      "Loss from simple SVD: 1492.102294921875\n",
      "Loss for direction: 1492.1014404296875\n",
      "Loss for direction: 1492.1014404296875\n",
      "Optimal split found. Proceeding to split sub-matrices.\n",
      "Size of group 1: 0\n",
      "Size of group 2: 31\n",
      "Rank of matrix 1: 0\n",
      "Rank of matrix 2: 10\n",
      "No matrices to split.\n",
      "Splitting sub-matrix 2 of depth = 2 with 7154 flops\n",
      "Depth: 3\n",
      "Loss from simple SVD: 8661.0068359375\n",
      "Loss for direction: 4641.3701171875\n",
      "Loss for direction: 3804.378173828125\n",
      "Loss for direction: 3804.378173828125\n",
      "Optimal split found. Proceeding to split sub-matrices.\n",
      "Size of group 1: 30\n",
      "Size of group 2: 59\n",
      "Rank of matrix 1: 10\n",
      "Rank of matrix 2: 17\n",
      "Splitting sub-matrix 1 of depth = 3 with 2314 flops\n",
      "Depth: 4\n",
      "Loss from simple SVD: 668.9130859375\n",
      "Loss for direction: 668.9129028320312\n",
      "Loss for direction: 668.9129028320312\n",
      "Optimal split found. Proceeding to split sub-matrices.\n",
      "Size of group 1: 0\n",
      "Size of group 2: 30\n",
      "Rank of matrix 1: 0\n",
      "Rank of matrix 2: 10\n",
      "No matrices to split.\n",
      "Splitting sub-matrix 2 of depth = 3 with 4840 flops\n",
      "Depth: 4\n",
      "Loss from simple SVD: 3135.465087890625\n",
      "Loss for direction: 1632.0982666015625\n",
      "Loss for direction: 1091.00537109375\n",
      "Loss for direction: 1091.00537109375\n",
      "Optimal split found. Proceeding to split sub-matrices.\n",
      "Size of group 1: 30\n",
      "Size of group 2: 29\n",
      "Rank of matrix 1: 11\n",
      "Rank of matrix 2: 10\n",
      "Splitting sub-matrix 1 of depth = 4 with 2540 flops\n",
      "Depth: 5\n",
      "Loss from simple SVD: 293.7129211425781\n",
      "Loss for direction: 293.7127380371094\n",
      "Loss for direction: 293.7127380371094\n",
      "Optimal split found. Proceeding to split sub-matrices.\n",
      "Size of group 1: 0\n",
      "Size of group 2: 30\n",
      "Rank of matrix 1: 0\n",
      "Rank of matrix 2: 11\n",
      "No matrices to split.\n",
      "Splitting sub-matrix 2 of depth = 4 with 2300 flops\n",
      "Depth: 5\n",
      "Loss from simple SVD: 797.2924194335938\n",
      "Loss for direction: 797.2918090820312\n",
      "Loss for direction: 797.2918090820312\n",
      "Optimal split found. Proceeding to split sub-matrices.\n",
      "Size of group 1: 0\n",
      "Size of group 2: 29\n",
      "Rank of matrix 1: 0\n",
      "Rank of matrix 2: 10\n",
      "No matrices to split.\n",
      "Splitting sub-matrix 2 of depth = 1 with 7370.0 flops\n",
      "Depth: 2\n",
      "Loss from simple SVD: 7923.2392578125\n",
      "Loss for direction: 4418.3076171875\n",
      "Loss for direction: 3731.59375\n",
      "Loss for direction: 3453.11376953125\n",
      "Loss for direction: 3453.11376953125\n",
      "Optimal split found. Proceeding to split sub-matrices.\n",
      "Size of group 1: 60\n",
      "Size of group 2: 30\n",
      "Rank of matrix 1: 17\n",
      "Rank of matrix 2: 11\n",
      "Splitting sub-matrix 1 of depth = 2 with 4855 flops\n",
      "Depth: 3\n",
      "Loss from simple SVD: 3057.893310546875\n",
      "Loss for direction: 2428.64892578125\n",
      "Loss for direction: 1119.857421875\n",
      "Loss for direction: 1119.857421875\n",
      "Optimal split found. Proceeding to split sub-matrices.\n",
      "Size of group 1: 30\n",
      "Size of group 2: 30\n",
      "Rank of matrix 1: 10\n",
      "Rank of matrix 2: 11\n",
      "Splitting sub-matrix 1 of depth = 3 with 2317 flops\n",
      "Depth: 4\n",
      "Loss from simple SVD: 690.9396362304688\n",
      "Loss for direction: 690.9395141601562\n",
      "Loss for direction: 690.9395141601562\n",
      "Optimal split found. Proceeding to split sub-matrices.\n",
      "Size of group 1: 0\n",
      "Size of group 2: 30\n",
      "Rank of matrix 1: 0\n",
      "Rank of matrix 2: 10\n",
      "No matrices to split.\n",
      "Splitting sub-matrix 2 of depth = 3 with 2538 flops\n",
      "Depth: 4\n",
      "Loss from simple SVD: 428.9178161621094\n",
      "Loss for direction: 428.9176025390625\n",
      "Loss for direction: 428.9176025390625\n",
      "Optimal split found. Proceeding to split sub-matrices.\n",
      "Size of group 1: 0\n",
      "Size of group 2: 30\n",
      "Rank of matrix 1: 0\n",
      "Rank of matrix 2: 11\n",
      "No matrices to split.\n",
      "Splitting sub-matrix 2 of depth = 2 with 2515.0 flops\n",
      "Depth: 3\n",
      "Loss from simple SVD: 395.220703125\n",
      "Loss for direction: 395.220703125\n",
      "Optimal split found. Proceeding to split sub-matrices.\n",
      "Size of group 1: 30\n",
      "Size of group 2: 0\n",
      "Rank of matrix 1: 11\n",
      "Rank of matrix 2: 0\n",
      "No matrices to split.\n"
     ]
    }
   ],
   "source": [
    "total_F2_loss, total_actual_flops = greedy_splitting_rows_F2(A)"
   ]
  },
  {
   "cell_type": "code",
   "execution_count": 10,
   "metadata": {},
   "outputs": [
    {
     "data": {
      "text/plain": [
       "tensor(4767.0967)"
      ]
     },
     "execution_count": 10,
     "metadata": {},
     "output_type": "execute_result"
    }
   ],
   "source": [
    "total_F2_loss"
   ]
  },
  {
   "cell_type": "code",
   "execution_count": 11,
   "metadata": {},
   "outputs": [
    {
     "data": {
      "text/plain": [
       "16060.0"
      ]
     },
     "execution_count": 11,
     "metadata": {},
     "output_type": "execute_result"
    }
   ],
   "source": [
    "total_actual_flops"
   ]
  },
  {
   "cell_type": "code",
   "execution_count": 12,
   "metadata": {},
   "outputs": [],
   "source": [
    "svd_F2_loss, svd_r1, _, svd_flops, _ = find_optimal_rank_allocation_F2(A, None, 210*80)"
   ]
  },
  {
   "cell_type": "code",
   "execution_count": 13,
   "metadata": {},
   "outputs": [
    {
     "data": {
      "text/plain": [
       "tensor(37750.7812)"
      ]
     },
     "execution_count": 13,
     "metadata": {},
     "output_type": "execute_result"
    }
   ],
   "source": [
    "svd_F2_loss"
   ]
  },
  {
   "cell_type": "code",
   "execution_count": 14,
   "metadata": {},
   "outputs": [
    {
     "data": {
      "text/plain": [
       "28"
      ]
     },
     "execution_count": 14,
     "metadata": {},
     "output_type": "execute_result"
    }
   ],
   "source": [
    "svd_r1"
   ]
  },
  {
   "cell_type": "code",
   "execution_count": 15,
   "metadata": {},
   "outputs": [
    {
     "data": {
      "text/plain": [
       "16240"
      ]
     },
     "execution_count": 15,
     "metadata": {},
     "output_type": "execute_result"
    }
   ],
   "source": [
    "svd_flops"
   ]
  },
  {
   "cell_type": "code",
   "execution_count": null,
   "metadata": {},
   "outputs": [],
   "source": []
  }
 ],
 "metadata": {
  "kernelspec": {
   "display_name": "base",
   "language": "python",
   "name": "python3"
  },
  "language_info": {
   "codemirror_mode": {
    "name": "ipython",
    "version": 3
   },
   "file_extension": ".py",
   "mimetype": "text/x-python",
   "name": "python",
   "nbconvert_exporter": "python",
   "pygments_lexer": "ipython3",
   "version": "3.11.5"
  }
 },
 "nbformat": 4,
 "nbformat_minor": 2
}
