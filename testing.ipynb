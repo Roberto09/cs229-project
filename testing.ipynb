{
 "cells": [
  {
   "cell_type": "code",
   "execution_count": 2,
   "id": "e7a4a243-0c92-4250-9090-c204569f8b6a",
   "metadata": {},
   "outputs": [],
   "source": [
    "import torch\n",
    "from transformers import AutoModelForCausalLM, AutoTokenizer"
   ]
  },
  {
   "cell_type": "code",
   "execution_count": 6,
   "id": "1672e217-f6ee-47f8-a8b8-82c33b061d95",
   "metadata": {},
   "outputs": [],
   "source": [
    "model_id = \"microsoft/phi-1_5\"\n",
    "model_revision = \"349cf8b5e81fd5f791d1740da5de1313a0419bbd\" # latest as of feb 1st"
   ]
  },
  {
   "cell_type": "code",
   "execution_count": 4,
   "id": "36d07245-c822-41b4-bf35-f902ec3fa607",
   "metadata": {},
   "outputs": [
    {
     "name": "stderr",
     "output_type": "stream",
     "text": [
      "tokenizer_config.json: 100%|████████████████████████████████████████████████████████████████████████████████████████| 237/237 [00:00<00:00, 232kB/s]\n",
      "vocab.json: 100%|████████████████████████████████████████████████████████████████████████████████████████████████| 798k/798k [00:00<00:00, 3.10MB/s]\n",
      "merges.txt: 100%|████████████████████████████████████████████████████████████████████████████████████████████████| 456k/456k [00:00<00:00, 5.89MB/s]\n",
      "tokenizer.json: 100%|██████████████████████████████████████████████████████████████████████████████████████████| 2.11M/2.11M [00:00<00:00, 9.90MB/s]\n",
      "added_tokens.json: 100%|███████████████████████████████████████████████████████████████████████████████████████| 1.08k/1.08k [00:00<00:00, 1.68MB/s]\n",
      "special_tokens_map.json: 100%|████████████████████████████████████████████████████████████████████████████████████| 99.0/99.0 [00:00<00:00, 237kB/s]\n"
     ]
    }
   ],
   "source": [
    "tokenizer = AutoTokenizer.from_pretrained(base_model_id, trust_remote_code=True) # use_fast=True?\n",
    "# tokenizer.pad_token = tokenizer.eos_token"
   ]
  },
  {
   "cell_type": "code",
   "execution_count": 12,
   "id": "e1863cef-0ad1-4f69-b271-fe4078d72b96",
   "metadata": {},
   "outputs": [],
   "source": [
    "vocab = tokenizer.get_vocab()"
   ]
  },
  {
   "cell_type": "code",
   "execution_count": 13,
   "id": "80a61659-bde1-459a-8549-9266718a4618",
   "metadata": {},
   "outputs": [
    {
     "data": {
      "text/plain": [
       "50295"
      ]
     },
     "execution_count": 13,
     "metadata": {},
     "output_type": "execute_result"
    }
   ],
   "source": [
    "len(vocab)"
   ]
  },
  {
   "cell_type": "code",
   "execution_count": 26,
   "id": "ca81be23-234e-4bad-b185-b9e4ca74fe04",
   "metadata": {},
   "outputs": [
    {
     "data": {
      "text/plain": [
       "4299"
      ]
     },
     "execution_count": 26,
     "metadata": {},
     "output_type": "execute_result"
    }
   ],
   "source": [
    "vocab[\"def\"]"
   ]
  },
  {
   "cell_type": "code",
   "execution_count": 7,
   "id": "d8531b75-5a93-438c-8b70-b36fab79b4d1",
   "metadata": {},
   "outputs": [
    {
     "name": "stderr",
     "output_type": "stream",
     "text": [
      "config.json: 100%|█████████████████████████████████████████████████████████████████████████████████████████████████| 864/864 [00:00<00:00, 1.40MB/s]\n",
      "configuration_phi.py: 100%|████████████████████████████████████████████████████████████████████████████████████| 9.26k/9.26k [00:00<00:00, 16.1MB/s]\n",
      "modeling_phi.py: 100%|█████████████████████████████████████████████████████████████████████████████████████████| 62.7k/62.7k [00:00<00:00, 38.3MB/s]\n",
      "pytorch_model.bin: 100%|███████████████████████████████████████████████████████████████████████████████████████| 2.84G/2.84G [03:21<00:00, 14.0MB/s]\n",
      "generation_config.json: 100%|█████████████████████████████████████████████████████████████████████████████████████| 74.0/74.0 [00:00<00:00, 265kB/s]\n"
     ]
    }
   ],
   "source": [
    "model = AutoModelForCausalLM.from_pretrained(\n",
    "    model_id,\n",
    "    revision=model_revision,\n",
    "    trust_remote_code=True,\n",
    "    # torch_dtype=compute_dtype,\n",
    "    # quantization_config=bnb_config,\n",
    ")"
   ]
  },
  {
   "cell_type": "code",
   "execution_count": null,
   "id": "f4afd62f-51f8-4fbc-877f-d51ea2ec7cb0",
   "metadata": {},
   "outputs": [],
   "source": [
    "model = AutoModelForCausalLM.from_pretrained(\"microsoft/phi-1_5\", torch_dtype=\"auto\", trust_remote_code=True)"
   ]
  },
  {
   "cell_type": "code",
   "execution_count": null,
   "id": "371d8e09-0458-4105-b285-358c92d767a1",
   "metadata": {},
   "outputs": [],
   "source": [
    "model = AutoModelForCausalLM.from_pretrained(\"microsoft/phi-1_5\", torch_dtype=\"auto\", trust_remote_code=True)\n",
    "tokenizer = AutoTokenizer.from_pretrained(\"microsoft/phi-1_5\", trust_remote_code=True)"
   ]
  },
  {
   "cell_type": "code",
   "execution_count": null,
   "id": "f26cc2cd-7d85-4232-a24a-44f547c8ba85",
   "metadata": {},
   "outputs": [],
   "source": []
  }
 ],
 "metadata": {
  "kernelspec": {
   "display_name": "Python 3 (ipykernel)",
   "language": "python",
   "name": "python3"
  },
  "language_info": {
   "codemirror_mode": {
    "name": "ipython",
    "version": 3
   },
   "file_extension": ".py",
   "mimetype": "text/x-python",
   "name": "python",
   "nbconvert_exporter": "python",
   "pygments_lexer": "ipython3",
   "version": "3.11.7"
  }
 },
 "nbformat": 4,
 "nbformat_minor": 5
}
