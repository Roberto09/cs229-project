{
 "cells": [
  {
   "cell_type": "code",
   "execution_count": 1,
   "id": "12cc1aaf-5b39-4745-9d30-6eaed0b604b6",
   "metadata": {},
   "outputs": [],
   "source": [
    "%load_ext autoreload\n",
    "%autoreload 2"
   ]
  },
  {
   "cell_type": "code",
   "execution_count": 2,
   "id": "fb189dd8-135f-4827-8a92-f4b4ea2f86c2",
   "metadata": {},
   "outputs": [],
   "source": [
    "import os\n",
    "os.environ[\"CUDA_VISIBLE_DEVICES\"] = \"0\""
   ]
  },
  {
   "cell_type": "code",
   "execution_count": 3,
   "id": "a7a65062-72ba-40f0-ad0c-e37ed36df9dd",
   "metadata": {},
   "outputs": [],
   "source": [
    "import os\n",
    "import pandas as pd\n",
    "import torch\n",
    "from dataset_preprocessing import TokenInfo\n",
    "import torch\n",
    "from transformers import AutoModelForCausalLM, AutoTokenizer\n",
    "import itertools\n",
    "import pandas as pd\n",
    "from tqdm import tqdm"
   ]
  },
  {
   "cell_type": "markdown",
   "id": "d376ae97-4ec1-46d5-b640-566545c2e21d",
   "metadata": {},
   "source": [
    "## Importances"
   ]
  },
  {
   "cell_type": "code",
   "execution_count": 4,
   "id": "d7943d9f-9fa3-4ae3-8e5b-2b8978c909a4",
   "metadata": {},
   "outputs": [],
   "source": [
    "def get_importances():\n",
    "    # print(\"this is wrong\")\n",
    "    dir = \"./new_importances_data\"\n",
    "    imp_files = os.listdir(dir)\n",
    "    imp_files = [file for file in imp_files if file.endswith(\".pkl\")]\n",
    "    importances = {}\n",
    "    for imp_file in tqdm(imp_files):\n",
    "        importances.update(pd.read_pickle(f\"{dir}/{imp_file}\"))\n",
    "    return importances"
   ]
  },
  {
   "cell_type": "code",
   "execution_count": 5,
   "id": "92b949f6-b4f0-420a-b379-bdcb27600d92",
   "metadata": {},
   "outputs": [],
   "source": [
    "# imps = get_importances()"
   ]
  },
  {
   "cell_type": "code",
   "execution_count": 6,
   "id": "b6aee5d8-b934-4388-a280-226e823cfc72",
   "metadata": {},
   "outputs": [],
   "source": [
    "def get_avg_imporances(importances):\n",
    "    avg_imps = [torch.zeros_like(imp) for imp in list(importances.values())[0]]\n",
    "    for token, imps in tqdm(importances.items()):\n",
    "        for i, layer_imps in enumerate(imps):\n",
    "            avg_imps[i] += layer_imps / len(importances)\n",
    "    # TODO think harder about averaging method\n",
    "    return avg_imps"
   ]
  },
  {
   "cell_type": "code",
   "execution_count": 7,
   "id": "7b49a204-d574-4c49-a615-f6cbe0d68103",
   "metadata": {},
   "outputs": [],
   "source": [
    "# avg_importances = get_avg_imporances(imps)"
   ]
  },
  {
   "cell_type": "code",
   "execution_count": 8,
   "id": "38b9cea4-4361-4750-935a-c313302ba106",
   "metadata": {},
   "outputs": [],
   "source": [
    "# pd.to_pickle(avg_importances, \"./avg_importances.pkl\")"
   ]
  },
  {
   "cell_type": "code",
   "execution_count": 9,
   "id": "fd7daa4f-5525-4bc6-ab49-df4e159f3449",
   "metadata": {},
   "outputs": [],
   "source": [
    "avg_importances = pd.read_pickle(\"./avg_importances.pkl\")"
   ]
  },
  {
   "cell_type": "code",
   "execution_count": 10,
   "id": "2f94d76e-fa17-4f7d-b1f6-cdad75876469",
   "metadata": {},
   "outputs": [
    {
     "data": {
      "text/plain": [
       "24"
      ]
     },
     "execution_count": 10,
     "metadata": {},
     "output_type": "execute_result"
    }
   ],
   "source": [
    "len(avg_importances)"
   ]
  },
  {
   "cell_type": "markdown",
   "id": "2b4532c3-06f6-4353-b261-92acee331bbc",
   "metadata": {},
   "source": [
    "## Model"
   ]
  },
  {
   "cell_type": "code",
   "execution_count": 11,
   "id": "41b0cc63-e94b-4d1e-aff7-ea5c7310e5ca",
   "metadata": {},
   "outputs": [],
   "source": [
    "model_id = \"microsoft/phi-1_5\"\n",
    "model_revision = \"349cf8b5e81fd5f791d1740da5de1313a0419bbd\" # latest as of feb 1st"
   ]
  },
  {
   "cell_type": "code",
   "execution_count": 12,
   "id": "a84556f1-3c37-4283-bbdb-7d57b2f8d4c4",
   "metadata": {},
   "outputs": [],
   "source": [
    "tokenizer = AutoTokenizer.from_pretrained(model_id, trust_remote_code=True)"
   ]
  },
  {
   "cell_type": "code",
   "execution_count": 13,
   "id": "434047b0-2814-4a7d-8b36-26bb8cea6ef9",
   "metadata": {},
   "outputs": [
    {
     "data": {
      "text/plain": [
       "50295"
      ]
     },
     "execution_count": 13,
     "metadata": {},
     "output_type": "execute_result"
    }
   ],
   "source": [
    "vocab = tokenizer.get_vocab()\n",
    "len(vocab)"
   ]
  },
  {
   "cell_type": "code",
   "execution_count": 14,
   "id": "0188674e-b98b-4880-8ea1-f5c7793d6a13",
   "metadata": {},
   "outputs": [],
   "source": [
    "# tokenizer.decode(token_info.get_prefixes(top_tokens[1000][0], 9, 10)[0])"
   ]
  },
  {
   "cell_type": "code",
   "execution_count": 15,
   "id": "b379b1d8-0ab9-44df-83ed-089795112f4d",
   "metadata": {},
   "outputs": [],
   "source": [
    "model = AutoModelForCausalLM.from_pretrained(\n",
    "    model_id,\n",
    "    revision=model_revision,\n",
    "    trust_remote_code=True,\n",
    "    # be careful with this?\n",
    "    # torch_dtype=torch.float16,\n",
    "    # attn_implementation=\"flash_attention_2\",\n",
    ")"
   ]
  },
  {
   "cell_type": "code",
   "execution_count": null,
   "id": "b29bb579-da14-4e34-b37f-eba117b1e816",
   "metadata": {},
   "outputs": [],
   "source": []
  },
  {
   "cell_type": "markdown",
   "id": "2c698778-7f3b-4cf8-8bfe-6b0c54849ca2",
   "metadata": {},
   "source": [
    "## Prune Model"
   ]
  },
  {
   "cell_type": "code",
   "execution_count": 16,
   "id": "9250468a-c3e1-498a-8799-bbbbc763f086",
   "metadata": {},
   "outputs": [],
   "source": [
    "from prunners import prune_mlps_individually\n",
    "from importances import get_mlps"
   ]
  },
  {
   "cell_type": "code",
   "execution_count": 17,
   "id": "e11be390-99df-4b99-9e18-25255d3d269b",
   "metadata": {},
   "outputs": [],
   "source": [
    "mlps = get_mlps(model)"
   ]
  },
  {
   "cell_type": "code",
   "execution_count": 18,
   "id": "207a1fcd-edaf-43e2-a52d-ba4fc39b7c0c",
   "metadata": {},
   "outputs": [
    {
     "data": {
      "text/plain": [
       "(24, 24)"
      ]
     },
     "execution_count": 18,
     "metadata": {},
     "output_type": "execute_result"
    }
   ],
   "source": [
    "len(mlps), len(avg_importances)"
   ]
  },
  {
   "cell_type": "code",
   "execution_count": 19,
   "id": "0810f24f-cb59-4c40-9b66-588c669bb2a2",
   "metadata": {},
   "outputs": [],
   "source": [
    "avg_importances = dict(zip(mlps, avg_importances))"
   ]
  },
  {
   "cell_type": "code",
   "execution_count": 20,
   "id": "1c222ae1-5dcd-4801-96dc-0ebdfd10666e",
   "metadata": {},
   "outputs": [],
   "source": [
    "prune_mlps_individually(avg_importances, 0.2)"
   ]
  },
  {
   "cell_type": "code",
   "execution_count": 21,
   "id": "b96da5cc-9b2c-44e1-8b38-ef0592767ce0",
   "metadata": {},
   "outputs": [
    {
     "data": {
      "text/plain": [
       "PhiForCausalLM(\n",
       "  (model): PhiModel(\n",
       "    (embed_tokens): Embedding(51200, 2048)\n",
       "    (embed_dropout): Dropout(p=0.0, inplace=False)\n",
       "    (layers): ModuleList(\n",
       "      (0-23): 24 x PhiDecoderLayer(\n",
       "        (self_attn): PhiAttention(\n",
       "          (q_proj): Linear(in_features=2048, out_features=2048, bias=True)\n",
       "          (k_proj): Linear(in_features=2048, out_features=2048, bias=True)\n",
       "          (v_proj): Linear(in_features=2048, out_features=2048, bias=True)\n",
       "          (dense): Linear(in_features=2048, out_features=2048, bias=True)\n",
       "          (rotary_emb): PhiRotaryEmbedding()\n",
       "        )\n",
       "        (mlp): PhiMLP(\n",
       "          (activation_fn): NewGELUActivation()\n",
       "          (fc1): Linear(in_features=2048, out_features=6554, bias=True)\n",
       "          (fc2): Linear(in_features=6554, out_features=2048, bias=True)\n",
       "        )\n",
       "        (input_layernorm): LayerNorm((2048,), eps=1e-05, elementwise_affine=True)\n",
       "        (resid_dropout): Dropout(p=0.0, inplace=False)\n",
       "      )\n",
       "    )\n",
       "    (final_layernorm): LayerNorm((2048,), eps=1e-05, elementwise_affine=True)\n",
       "  )\n",
       "  (lm_head): Linear(in_features=2048, out_features=51200, bias=True)\n",
       ")"
      ]
     },
     "execution_count": 21,
     "metadata": {},
     "output_type": "execute_result"
    }
   ],
   "source": [
    "model"
   ]
  },
  {
   "cell_type": "code",
   "execution_count": null,
   "id": "174b2b6f-45a6-4329-bdd3-171d70d2038f",
   "metadata": {},
   "outputs": [],
   "source": []
  },
  {
   "cell_type": "markdown",
   "id": "f366bf82-994f-4b0d-8062-77cc8525d47c",
   "metadata": {
    "id": "2C-2xbL_z6yG"
   },
   "source": [
    "## Metric Callback"
   ]
  },
  {
   "cell_type": "code",
   "execution_count": 22,
   "id": "1b6b9c58-f80f-4213-b612-4dce82e45799",
   "metadata": {
    "id": "LF4vQbKrz551"
   },
   "outputs": [],
   "source": [
    "from transformers import TrainerCallback"
   ]
  },
  {
   "cell_type": "code",
   "execution_count": 23,
   "id": "21d4bfb3-1950-46ba-b398-364b0d90603a",
   "metadata": {
    "id": "pirt-rV9z53V"
   },
   "outputs": [],
   "source": [
    "from evaluation import evaluate_on_nlp_tasks"
   ]
  },
  {
   "cell_type": "code",
   "execution_count": 24,
   "id": "64c48ce5-8434-4460-b0d4-bef3204cbd55",
   "metadata": {
    "id": "DfLpyjUEz50K"
   },
   "outputs": [],
   "source": [
    "class AccEvalCallback(TrainerCallback):\n",
    "    def __init__(self):\n",
    "        super().__init__()\n",
    "        self.last_step=-1\n",
    "\n",
    "    def on_evaluate(self, args, state, control, model, **kwargs):\n",
    "        if state.global_step == self.last_step:\n",
    "            return\n",
    "        self.last_step = state.global_step\n",
    "        train = model.training\n",
    "        model.eval()\n",
    "        with torch.no_grad():\n",
    "            os.environ[\"TQDM_DISABLE\"] = \"1\"\n",
    "            eval_res = evaluate_on_nlp_tasks(model, tokenizer, limit=100, do_shuffle=True)[\"results\"]\n",
    "            # import pdb; pdb.set_trace()\n",
    "            eval_res = {k:v[\"acc,none\"] for k,v in eval_res.items()}\n",
    "            for k, v in eval_res.items():\n",
    "                state.log_history.append(\n",
    "                    {\n",
    "                        k:v,\n",
    "                        \"epoch\":state.epoch,\n",
    "                        \"step\":state.global_step,\n",
    "                    }\n",
    "                )\n",
    "            del os.environ['TQDM_DISABLE']\n",
    "            print(eval_res)\n",
    "        model.train(train)"
   ]
  },
  {
   "cell_type": "code",
   "execution_count": 25,
   "id": "4a6b789f-e6a3-47dc-a70c-b4a7797c9e52",
   "metadata": {},
   "outputs": [],
   "source": [
    "class SaveCallback(TrainerCallback):\n",
    "    def __init__(self, save_path):\n",
    "        super().__init__()\n",
    "        self.save_path = save_path\n",
    "        self.last_step=-1\n",
    "\n",
    "    def on_evaluate(self, args, state, control, model, **kwargs):\n",
    "        if state.global_step == self.last_step:\n",
    "            return\n",
    "        self.last_step = state.global_step\n",
    "        try:\n",
    "            torch.save(model.state_dict(), self.save_path)\n",
    "        except Exception as e:\n",
    "            print(f\"error saving {e}\")"
   ]
  },
  {
   "cell_type": "code",
   "execution_count": null,
   "id": "d31c633c-e3ce-48ab-8930-3cff17baf13c",
   "metadata": {},
   "outputs": [],
   "source": []
  },
  {
   "cell_type": "markdown",
   "id": "028756c1-b952-49e2-acad-476c47285710",
   "metadata": {},
   "source": [
    "## Train model"
   ]
  },
  {
   "cell_type": "code",
   "execution_count": 26,
   "id": "d3b61461-c77a-498c-b35c-c25e7188e9a2",
   "metadata": {},
   "outputs": [],
   "source": [
    "from peft import LoraConfig, PeftConfig\n",
    "import transformers"
   ]
  },
  {
   "cell_type": "code",
   "execution_count": 27,
   "id": "b5f8ba3c-7105-4836-b44b-67ad39f908e3",
   "metadata": {},
   "outputs": [],
   "source": [
    "from post_training import get_lora_config, get_training_arguments\n",
    "from dataset import get_baseline_dataset\n",
    "from trl import SFTTrainer"
   ]
  },
  {
   "cell_type": "code",
   "execution_count": 28,
   "id": "f2762576-56bf-4b88-8d9e-71388e4446a9",
   "metadata": {},
   "outputs": [],
   "source": [
    "lora_config = get_lora_config()\n",
    "training_arguments = get_training_arguments(\"./tmp\")"
   ]
  },
  {
   "cell_type": "code",
   "execution_count": 29,
   "id": "ad26f2bb-f8ec-4c3b-9a2c-cfd92da7ecf8",
   "metadata": {},
   "outputs": [],
   "source": [
    "model.cuda();"
   ]
  },
  {
   "cell_type": "code",
   "execution_count": 30,
   "id": "bc563e00-7011-41c3-b548-9bab5fdb3fba",
   "metadata": {},
   "outputs": [],
   "source": [
    "model.config.use_cache = False\n",
    "model.config.pretraining_tp = 1\n",
    "model.gradient_checkpointing_enable()"
   ]
  },
  {
   "cell_type": "code",
   "execution_count": 31,
   "id": "6927d003-e04d-4399-a32a-a13dd04a61dc",
   "metadata": {},
   "outputs": [
    {
     "name": "stdout",
     "output_type": "stream",
     "text": [
      "reading pickle\n"
     ]
    }
   ],
   "source": [
    "dataset = get_baseline_dataset()\n",
    "train_data, eval_data = dataset[\"train\"], dataset[\"test\"]"
   ]
  },
  {
   "cell_type": "code",
   "execution_count": 32,
   "id": "9fafbd2f-2df9-422c-bf54-b4805c964c94",
   "metadata": {},
   "outputs": [],
   "source": [
    "tokenizer.pad_token = tokenizer.eos_token\n",
    "training_arguments.save_strategy=\"no\"\n",
    "training_arguments.eval_steps = 100"
   ]
  },
  {
   "cell_type": "code",
   "execution_count": 33,
   "id": "424b1097-0953-4a49-bb46-ec14ff2433d9",
   "metadata": {},
   "outputs": [],
   "source": [
    "save_path = \"./tmp/llmpruner_style_20_state_dict\"\n",
    "callbacks = [AccEvalCallback(), SaveCallback(save_path)]"
   ]
  },
  {
   "cell_type": "code",
   "execution_count": 34,
   "id": "e59a8478-4378-4fd3-b938-d6fe52fe4050",
   "metadata": {},
   "outputs": [
    {
     "data": {
      "application/vnd.jupyter.widget-view+json": {
       "model_id": "7bca746ce7104ab0be8dd01f51c554b3",
       "version_major": 2,
       "version_minor": 0
      },
      "text/plain": [
       "Map:   0%|          | 0/50000 [00:00<?, ? examples/s]"
      ]
     },
     "metadata": {},
     "output_type": "display_data"
    },
    {
     "data": {
      "application/vnd.jupyter.widget-view+json": {
       "model_id": "4b550bcd0a0b47439df716e0c91add5b",
       "version_major": 2,
       "version_minor": 0
      },
      "text/plain": [
       "Map:   0%|          | 0/2000 [00:00<?, ? examples/s]"
      ]
     },
     "metadata": {},
     "output_type": "display_data"
    },
    {
     "name": "stderr",
     "output_type": "stream",
     "text": [
      "2024-03-10:05:16:46,329 WARNING  [logging.py:61] Detected kernel version 5.4.0, which is below the recommended minimum of 5.5.0; this can cause the process to hang. It is recommended to upgrade the kernel to the minimum version or higher.\n"
     ]
    }
   ],
   "source": [
    "trainer = SFTTrainer(\n",
    "    model=model,\n",
    "    train_dataset=train_data,\n",
    "    eval_dataset=eval_data,\n",
    "    peft_config=lora_config,\n",
    "    tokenizer=tokenizer,\n",
    "    args=training_arguments,\n",
    "    packing=False,\n",
    "    dataset_text_field=\"text\",\n",
    "    max_seq_length=1024, # tweak this\n",
    "    # TODO: think harder about the datacollator\n",
    "    # data_collator=transformers.DataCollatorForSeq2Seq(\n",
    "    #     tokenizer, pad_to_multiple_of=8, return_tensors=\"pt\", padding=True\n",
    "    # ),\n",
    "    callbacks=callbacks,\n",
    ")"
   ]
  },
  {
   "cell_type": "markdown",
   "id": "923aa3d3",
   "metadata": {},
   "source": [
    "## Before training performance evaluation"
   ]
  },
  {
   "cell_type": "code",
   "execution_count": null,
   "id": "c7043bd1-168e-40c2-b036-842f0f05f1f8",
   "metadata": {},
   "outputs": [],
   "source": [
    "from evaluation import evaluate_on_nlp_tasks"
   ]
  },
  {
   "cell_type": "code",
   "execution_count": null,
   "id": "14603e19-b51b-4f71-965e-07d5f8cfe46a",
   "metadata": {},
   "outputs": [],
   "source": [
    "trainer.evaluate()"
   ]
  },
  {
   "cell_type": "code",
   "execution_count": null,
   "id": "2654ae7c-ffdd-49ea-89eb-a5159af7c3a5",
   "metadata": {
    "id": "UIJuACQB0coM"
   },
   "outputs": [],
   "source": [
    "model.eval()"
   ]
  },
  {
   "cell_type": "code",
   "execution_count": null,
   "id": "67b4a213-4a20-49a8-8154-e25f8a6ddda5",
   "metadata": {
    "id": "jwdG7Lhi2gZy"
   },
   "outputs": [],
   "source": [
    "eval_res_orig = evaluate_on_nlp_tasks(model, tokenizer, limit=1000, bootstrap_iters=1000, do_shuffle=False)"
   ]
  },
  {
   "cell_type": "code",
   "execution_count": null,
   "id": "54454ece-7445-452d-bb2d-97846f021854",
   "metadata": {
    "id": "MHH9Nq8v2fxj"
   },
   "outputs": [],
   "source": [
    "eval_res_orig[\"results\"]"
   ]
  },
  {
   "cell_type": "code",
   "execution_count": null,
   "id": "64f6600d-753c-4dd1-bf0d-6c06140247f5",
   "metadata": {
    "id": "Tf0JfCcW0chu"
   },
   "outputs": [],
   "source": []
  },
  {
   "cell_type": "code",
   "execution_count": null,
   "id": "7d65b3d7-9c6e-4fa9-a409-2d13d15b6e49",
   "metadata": {
    "id": "bVcMBezD0cmW"
   },
   "outputs": [],
   "source": [
    "eval_res = evaluate_on_nlp_tasks(model, tokenizer, limit=1000, bootstrap_iters=1000, do_shuffle=True)"
   ]
  },
  {
   "cell_type": "code",
   "execution_count": null,
   "id": "7ce816fe-a0c6-40ba-9fc1-d33d748571cb",
   "metadata": {
    "id": "MN9Nehnd0ckE"
   },
   "outputs": [],
   "source": [
    "eval_res[\"results\"]"
   ]
  },
  {
   "cell_type": "markdown",
   "id": "769875a2-e825-4cce-9546-5ad22847a9c4",
   "metadata": {},
   "source": [
    "## Training"
   ]
  },
  {
   "cell_type": "code",
   "execution_count": null,
   "id": "2fbe5907-a668-4dec-8b3f-24bd45913b23",
   "metadata": {},
   "outputs": [],
   "source": [
    "model.train()"
   ]
  },
  {
   "cell_type": "code",
   "execution_count": 36,
   "id": "6c114811-973f-4b48-aa39-afb752d4b4b4",
   "metadata": {},
   "outputs": [
    {
     "data": {
      "text/html": [
       "\n",
       "    <div>\n",
       "      \n",
       "      <progress value='1666' max='1666' style='width:300px; height:20px; vertical-align: middle;'></progress>\n",
       "      [1666/1666 5:28:22, Epoch 1/2]\n",
       "    </div>\n",
       "    <table border=\"1\" class=\"dataframe\">\n",
       "  <thead>\n",
       " <tr style=\"text-align: left;\">\n",
       "      <th>Step</th>\n",
       "      <th>Training Loss</th>\n",
       "      <th>Validation Loss</th>\n",
       "    </tr>\n",
       "  </thead>\n",
       "  <tbody>\n",
       "    <tr>\n",
       "      <td>100</td>\n",
       "      <td>3.212200</td>\n",
       "      <td>3.189142</td>\n",
       "    </tr>\n",
       "    <tr>\n",
       "      <td>200</td>\n",
       "      <td>3.168100</td>\n",
       "      <td>3.143970</td>\n",
       "    </tr>\n",
       "    <tr>\n",
       "      <td>300</td>\n",
       "      <td>3.137300</td>\n",
       "      <td>3.130597</td>\n",
       "    </tr>\n",
       "    <tr>\n",
       "      <td>400</td>\n",
       "      <td>3.193800</td>\n",
       "      <td>3.123451</td>\n",
       "    </tr>\n",
       "    <tr>\n",
       "      <td>500</td>\n",
       "      <td>3.079400</td>\n",
       "      <td>3.118901</td>\n",
       "    </tr>\n",
       "    <tr>\n",
       "      <td>600</td>\n",
       "      <td>3.146500</td>\n",
       "      <td>3.115010</td>\n",
       "    </tr>\n",
       "    <tr>\n",
       "      <td>700</td>\n",
       "      <td>3.094300</td>\n",
       "      <td>3.112337</td>\n",
       "    </tr>\n",
       "    <tr>\n",
       "      <td>800</td>\n",
       "      <td>3.122800</td>\n",
       "      <td>3.109700</td>\n",
       "    </tr>\n",
       "    <tr>\n",
       "      <td>900</td>\n",
       "      <td>3.158000</td>\n",
       "      <td>3.108447</td>\n",
       "    </tr>\n",
       "    <tr>\n",
       "      <td>1000</td>\n",
       "      <td>3.081300</td>\n",
       "      <td>3.107401</td>\n",
       "    </tr>\n",
       "    <tr>\n",
       "      <td>1100</td>\n",
       "      <td>3.140800</td>\n",
       "      <td>3.105786</td>\n",
       "    </tr>\n",
       "    <tr>\n",
       "      <td>1200</td>\n",
       "      <td>3.152400</td>\n",
       "      <td>3.105036</td>\n",
       "    </tr>\n",
       "    <tr>\n",
       "      <td>1300</td>\n",
       "      <td>3.123300</td>\n",
       "      <td>3.104154</td>\n",
       "    </tr>\n",
       "    <tr>\n",
       "      <td>1400</td>\n",
       "      <td>3.154000</td>\n",
       "      <td>3.103343</td>\n",
       "    </tr>\n",
       "    <tr>\n",
       "      <td>1500</td>\n",
       "      <td>3.092900</td>\n",
       "      <td>3.102749</td>\n",
       "    </tr>\n",
       "    <tr>\n",
       "      <td>1600</td>\n",
       "      <td>3.135800</td>\n",
       "      <td>3.102394</td>\n",
       "    </tr>\n",
       "  </tbody>\n",
       "</table><p>"
      ],
      "text/plain": [
       "<IPython.core.display.HTML object>"
      ]
     },
     "metadata": {},
     "output_type": "display_data"
    },
    {
     "name": "stdout",
     "output_type": "stream",
     "text": [
      "will shuffle dataset\n"
     ]
    },
    {
     "name": "stderr",
     "output_type": "stream",
     "text": [
      "/opt/conda/lib/python3.10/site-packages/datasets/load.py:1461: FutureWarning: The repository for hellaswag contains custom code which must be executed to correctly load the dataset. You can inspect the repository content at https://hf.co/datasets/hellaswag\n",
      "You can avoid this message in future by passing the argument `trust_remote_code=True`.\n",
      "Passing `trust_remote_code=True` will be mandatory to load this dataset from the next major release of `datasets`.\n",
      "  warnings.warn(\n",
      "100%|███████████████████████| 1000/1000 [00:30<00:00, 32.27it/s]\n"
     ]
    },
    {
     "name": "stdout",
     "output_type": "stream",
     "text": [
      "{'hellaswag': 0.4, 'piqa': 0.73, 'boolq': 0.6, 'winogrande': 0.73}\n",
      "will shuffle dataset\n"
     ]
    },
    {
     "name": "stderr",
     "output_type": "stream",
     "text": [
      "/opt/conda/lib/python3.10/site-packages/datasets/load.py:1461: FutureWarning: The repository for hellaswag contains custom code which must be executed to correctly load the dataset. You can inspect the repository content at https://hf.co/datasets/hellaswag\n",
      "You can avoid this message in future by passing the argument `trust_remote_code=True`.\n",
      "Passing `trust_remote_code=True` will be mandatory to load this dataset from the next major release of `datasets`.\n",
      "  warnings.warn(\n",
      "100%|███████████████████████| 1000/1000 [00:31<00:00, 31.76it/s]\n"
     ]
    },
    {
     "name": "stdout",
     "output_type": "stream",
     "text": [
      "{'hellaswag': 0.41, 'piqa': 0.74, 'boolq': 0.6, 'winogrande': 0.73}\n",
      "will shuffle dataset\n"
     ]
    },
    {
     "name": "stderr",
     "output_type": "stream",
     "text": [
      "/opt/conda/lib/python3.10/site-packages/datasets/load.py:1461: FutureWarning: The repository for hellaswag contains custom code which must be executed to correctly load the dataset. You can inspect the repository content at https://hf.co/datasets/hellaswag\n",
      "You can avoid this message in future by passing the argument `trust_remote_code=True`.\n",
      "Passing `trust_remote_code=True` will be mandatory to load this dataset from the next major release of `datasets`.\n",
      "  warnings.warn(\n",
      "100%|███████████████████████| 1000/1000 [00:31<00:00, 31.95it/s]\n"
     ]
    },
    {
     "name": "stdout",
     "output_type": "stream",
     "text": [
      "{'hellaswag': 0.41, 'piqa': 0.74, 'boolq': 0.6, 'winogrande': 0.74}\n",
      "will shuffle dataset\n"
     ]
    },
    {
     "name": "stderr",
     "output_type": "stream",
     "text": [
      "/opt/conda/lib/python3.10/site-packages/datasets/load.py:1461: FutureWarning: The repository for hellaswag contains custom code which must be executed to correctly load the dataset. You can inspect the repository content at https://hf.co/datasets/hellaswag\n",
      "You can avoid this message in future by passing the argument `trust_remote_code=True`.\n",
      "Passing `trust_remote_code=True` will be mandatory to load this dataset from the next major release of `datasets`.\n",
      "  warnings.warn(\n",
      "100%|███████████████████████| 1000/1000 [00:30<00:00, 32.27it/s]\n"
     ]
    },
    {
     "name": "stdout",
     "output_type": "stream",
     "text": [
      "{'hellaswag': 0.4, 'piqa': 0.74, 'boolq': 0.6, 'winogrande': 0.72}\n",
      "will shuffle dataset\n"
     ]
    },
    {
     "name": "stderr",
     "output_type": "stream",
     "text": [
      "/opt/conda/lib/python3.10/site-packages/datasets/load.py:1461: FutureWarning: The repository for hellaswag contains custom code which must be executed to correctly load the dataset. You can inspect the repository content at https://hf.co/datasets/hellaswag\n",
      "You can avoid this message in future by passing the argument `trust_remote_code=True`.\n",
      "Passing `trust_remote_code=True` will be mandatory to load this dataset from the next major release of `datasets`.\n",
      "  warnings.warn(\n",
      " 83%|███████████████████▉    | 831/1000 [00:25<00:05, 33.34it/s]IOPub message rate exceeded.\n",
      "The Jupyter server will temporarily stop sending output\n",
      "to the client in order to avoid crashing it.\n",
      "To change this limit, set the config variable\n",
      "`--ServerApp.iopub_msg_rate_limit`.\n",
      "\n",
      "Current values:\n",
      "ServerApp.iopub_msg_rate_limit=1000.0 (msgs/sec)\n",
      "ServerApp.rate_limit_window=3.0 (secs)\n",
      "\n"
     ]
    },
    {
     "name": "stdout",
     "output_type": "stream",
     "text": [
      "will shuffle dataset\n"
     ]
    },
    {
     "name": "stderr",
     "output_type": "stream",
     "text": [
      "/opt/conda/lib/python3.10/site-packages/datasets/load.py:1461: FutureWarning: The repository for hellaswag contains custom code which must be executed to correctly load the dataset. You can inspect the repository content at https://hf.co/datasets/hellaswag\n",
      "You can avoid this message in future by passing the argument `trust_remote_code=True`.\n",
      "Passing `trust_remote_code=True` will be mandatory to load this dataset from the next major release of `datasets`.\n",
      "  warnings.warn(\n",
      "100%|███████████████████████| 1000/1000 [00:30<00:00, 32.62it/s]\n"
     ]
    },
    {
     "name": "stdout",
     "output_type": "stream",
     "text": [
      "{'hellaswag': 0.41, 'piqa': 0.74, 'boolq': 0.6, 'winogrande': 0.7}\n",
      "will shuffle dataset\n"
     ]
    },
    {
     "name": "stderr",
     "output_type": "stream",
     "text": [
      "/opt/conda/lib/python3.10/site-packages/datasets/load.py:1461: FutureWarning: The repository for hellaswag contains custom code which must be executed to correctly load the dataset. You can inspect the repository content at https://hf.co/datasets/hellaswag\n",
      "You can avoid this message in future by passing the argument `trust_remote_code=True`.\n",
      "Passing `trust_remote_code=True` will be mandatory to load this dataset from the next major release of `datasets`.\n",
      "  warnings.warn(\n",
      "100%|███████████████████████| 1000/1000 [00:31<00:00, 32.16it/s]\n"
     ]
    },
    {
     "name": "stdout",
     "output_type": "stream",
     "text": [
      "{'hellaswag': 0.4, 'piqa': 0.75, 'boolq': 0.61, 'winogrande': 0.68}\n",
      "will shuffle dataset\n"
     ]
    },
    {
     "name": "stderr",
     "output_type": "stream",
     "text": [
      "/opt/conda/lib/python3.10/site-packages/datasets/load.py:1461: FutureWarning: The repository for hellaswag contains custom code which must be executed to correctly load the dataset. You can inspect the repository content at https://hf.co/datasets/hellaswag\n",
      "You can avoid this message in future by passing the argument `trust_remote_code=True`.\n",
      "Passing `trust_remote_code=True` will be mandatory to load this dataset from the next major release of `datasets`.\n",
      "  warnings.warn(\n",
      "100%|███████████████████████| 1000/1000 [00:31<00:00, 31.40it/s]\n"
     ]
    },
    {
     "name": "stdout",
     "output_type": "stream",
     "text": [
      "{'hellaswag': 0.41, 'piqa': 0.74, 'boolq': 0.62, 'winogrande': 0.7}\n",
      "will shuffle dataset\n"
     ]
    },
    {
     "name": "stderr",
     "output_type": "stream",
     "text": [
      "/opt/conda/lib/python3.10/site-packages/datasets/load.py:1461: FutureWarning: The repository for hellaswag contains custom code which must be executed to correctly load the dataset. You can inspect the repository content at https://hf.co/datasets/hellaswag\n",
      "You can avoid this message in future by passing the argument `trust_remote_code=True`.\n",
      "Passing `trust_remote_code=True` will be mandatory to load this dataset from the next major release of `datasets`.\n",
      "  warnings.warn(\n",
      "100%|███████████████████████| 1000/1000 [00:31<00:00, 32.20it/s]\n"
     ]
    },
    {
     "name": "stdout",
     "output_type": "stream",
     "text": [
      "{'hellaswag': 0.4, 'piqa': 0.75, 'boolq': 0.62, 'winogrande': 0.7}\n",
      "will shuffle dataset\n"
     ]
    },
    {
     "name": "stderr",
     "output_type": "stream",
     "text": [
      "/opt/conda/lib/python3.10/site-packages/datasets/load.py:1461: FutureWarning: The repository for hellaswag contains custom code which must be executed to correctly load the dataset. You can inspect the repository content at https://hf.co/datasets/hellaswag\n",
      "You can avoid this message in future by passing the argument `trust_remote_code=True`.\n",
      "Passing `trust_remote_code=True` will be mandatory to load this dataset from the next major release of `datasets`.\n",
      "  warnings.warn(\n",
      "100%|███████████████████████| 1000/1000 [00:31<00:00, 32.10it/s]\n"
     ]
    },
    {
     "name": "stdout",
     "output_type": "stream",
     "text": [
      "{'hellaswag': 0.4, 'piqa': 0.74, 'boolq': 0.62, 'winogrande': 0.7}\n",
      "will shuffle dataset\n"
     ]
    },
    {
     "name": "stderr",
     "output_type": "stream",
     "text": [
      "/opt/conda/lib/python3.10/site-packages/datasets/load.py:1461: FutureWarning: The repository for hellaswag contains custom code which must be executed to correctly load the dataset. You can inspect the repository content at https://hf.co/datasets/hellaswag\n",
      "You can avoid this message in future by passing the argument `trust_remote_code=True`.\n",
      "Passing `trust_remote_code=True` will be mandatory to load this dataset from the next major release of `datasets`.\n",
      "  warnings.warn(\n",
      "100%|███████████████████████| 1000/1000 [00:30<00:00, 32.47it/s]\n"
     ]
    },
    {
     "name": "stdout",
     "output_type": "stream",
     "text": [
      "{'hellaswag': 0.4, 'piqa': 0.75, 'boolq': 0.62, 'winogrande': 0.69}\n"
     ]
    }
   ],
   "source": [
    "train_res = trainer.train()"
   ]
  },
  {
   "cell_type": "code",
   "execution_count": 37,
   "id": "12ebaa77-b4dd-450d-973b-dc4a47465fb2",
   "metadata": {
    "scrolled": true
   },
   "outputs": [],
   "source": [
    "pd.to_pickle(trainer.state, \"./tmp/llmpruner_style_20.pkl\")"
   ]
  },
  {
   "cell_type": "code",
   "execution_count": 38,
   "id": "d21577ec-dd89-4189-ae61-c888258355a7",
   "metadata": {},
   "outputs": [
    {
     "data": {
      "text/html": [
       "<div>\n",
       "<style scoped>\n",
       "    .dataframe tbody tr th:only-of-type {\n",
       "        vertical-align: middle;\n",
       "    }\n",
       "\n",
       "    .dataframe tbody tr th {\n",
       "        vertical-align: top;\n",
       "    }\n",
       "\n",
       "    .dataframe thead th {\n",
       "        text-align: right;\n",
       "    }\n",
       "</style>\n",
       "<table border=\"1\" class=\"dataframe\">\n",
       "  <thead>\n",
       "    <tr style=\"text-align: right;\">\n",
       "      <th></th>\n",
       "      <th>loss</th>\n",
       "      <th>grad_norm</th>\n",
       "      <th>learning_rate</th>\n",
       "      <th>epoch</th>\n",
       "      <th>step</th>\n",
       "      <th>eval_loss</th>\n",
       "      <th>eval_runtime</th>\n",
       "      <th>eval_samples_per_second</th>\n",
       "      <th>eval_steps_per_second</th>\n",
       "      <th>hellaswag</th>\n",
       "      <th>piqa</th>\n",
       "      <th>boolq</th>\n",
       "      <th>winogrande</th>\n",
       "      <th>train_runtime</th>\n",
       "      <th>train_samples_per_second</th>\n",
       "      <th>train_steps_per_second</th>\n",
       "      <th>total_flos</th>\n",
       "      <th>train_loss</th>\n",
       "    </tr>\n",
       "  </thead>\n",
       "  <tbody>\n",
       "    <tr>\n",
       "      <th>243</th>\n",
       "      <td>3.0831</td>\n",
       "      <td>0.343519</td>\n",
       "      <td>2.298851e-06</td>\n",
       "      <td>1.96</td>\n",
       "      <td>1630</td>\n",
       "      <td>NaN</td>\n",
       "      <td>NaN</td>\n",
       "      <td>NaN</td>\n",
       "      <td>NaN</td>\n",
       "      <td>NaN</td>\n",
       "      <td>NaN</td>\n",
       "      <td>NaN</td>\n",
       "      <td>NaN</td>\n",
       "      <td>NaN</td>\n",
       "      <td>NaN</td>\n",
       "      <td>NaN</td>\n",
       "      <td>NaN</td>\n",
       "      <td>NaN</td>\n",
       "    </tr>\n",
       "    <tr>\n",
       "      <th>244</th>\n",
       "      <td>3.0838</td>\n",
       "      <td>0.363677</td>\n",
       "      <td>1.660281e-06</td>\n",
       "      <td>1.97</td>\n",
       "      <td>1640</td>\n",
       "      <td>NaN</td>\n",
       "      <td>NaN</td>\n",
       "      <td>NaN</td>\n",
       "      <td>NaN</td>\n",
       "      <td>NaN</td>\n",
       "      <td>NaN</td>\n",
       "      <td>NaN</td>\n",
       "      <td>NaN</td>\n",
       "      <td>NaN</td>\n",
       "      <td>NaN</td>\n",
       "      <td>NaN</td>\n",
       "      <td>NaN</td>\n",
       "      <td>NaN</td>\n",
       "    </tr>\n",
       "    <tr>\n",
       "      <th>245</th>\n",
       "      <td>3.1203</td>\n",
       "      <td>0.336638</td>\n",
       "      <td>1.021711e-06</td>\n",
       "      <td>1.98</td>\n",
       "      <td>1650</td>\n",
       "      <td>NaN</td>\n",
       "      <td>NaN</td>\n",
       "      <td>NaN</td>\n",
       "      <td>NaN</td>\n",
       "      <td>NaN</td>\n",
       "      <td>NaN</td>\n",
       "      <td>NaN</td>\n",
       "      <td>NaN</td>\n",
       "      <td>NaN</td>\n",
       "      <td>NaN</td>\n",
       "      <td>NaN</td>\n",
       "      <td>NaN</td>\n",
       "      <td>NaN</td>\n",
       "    </tr>\n",
       "    <tr>\n",
       "      <th>246</th>\n",
       "      <td>3.1403</td>\n",
       "      <td>0.328405</td>\n",
       "      <td>3.831418e-07</td>\n",
       "      <td>1.99</td>\n",
       "      <td>1660</td>\n",
       "      <td>NaN</td>\n",
       "      <td>NaN</td>\n",
       "      <td>NaN</td>\n",
       "      <td>NaN</td>\n",
       "      <td>NaN</td>\n",
       "      <td>NaN</td>\n",
       "      <td>NaN</td>\n",
       "      <td>NaN</td>\n",
       "      <td>NaN</td>\n",
       "      <td>NaN</td>\n",
       "      <td>NaN</td>\n",
       "      <td>NaN</td>\n",
       "      <td>NaN</td>\n",
       "    </tr>\n",
       "    <tr>\n",
       "      <th>247</th>\n",
       "      <td>NaN</td>\n",
       "      <td>NaN</td>\n",
       "      <td>NaN</td>\n",
       "      <td>2.00</td>\n",
       "      <td>1666</td>\n",
       "      <td>NaN</td>\n",
       "      <td>NaN</td>\n",
       "      <td>NaN</td>\n",
       "      <td>NaN</td>\n",
       "      <td>NaN</td>\n",
       "      <td>NaN</td>\n",
       "      <td>NaN</td>\n",
       "      <td>NaN</td>\n",
       "      <td>19715.7721</td>\n",
       "      <td>5.072</td>\n",
       "      <td>0.085</td>\n",
       "      <td>3.479417e+17</td>\n",
       "      <td>3.136975</td>\n",
       "    </tr>\n",
       "  </tbody>\n",
       "</table>\n",
       "</div>"
      ],
      "text/plain": [
       "       loss  grad_norm  learning_rate  epoch  step  eval_loss  eval_runtime  \\\n",
       "243  3.0831   0.343519   2.298851e-06   1.96  1630        NaN           NaN   \n",
       "244  3.0838   0.363677   1.660281e-06   1.97  1640        NaN           NaN   \n",
       "245  3.1203   0.336638   1.021711e-06   1.98  1650        NaN           NaN   \n",
       "246  3.1403   0.328405   3.831418e-07   1.99  1660        NaN           NaN   \n",
       "247     NaN        NaN            NaN   2.00  1666        NaN           NaN   \n",
       "\n",
       "     eval_samples_per_second  eval_steps_per_second  hellaswag  piqa  boolq  \\\n",
       "243                      NaN                    NaN        NaN   NaN    NaN   \n",
       "244                      NaN                    NaN        NaN   NaN    NaN   \n",
       "245                      NaN                    NaN        NaN   NaN    NaN   \n",
       "246                      NaN                    NaN        NaN   NaN    NaN   \n",
       "247                      NaN                    NaN        NaN   NaN    NaN   \n",
       "\n",
       "     winogrande  train_runtime  train_samples_per_second  \\\n",
       "243         NaN            NaN                       NaN   \n",
       "244         NaN            NaN                       NaN   \n",
       "245         NaN            NaN                       NaN   \n",
       "246         NaN            NaN                       NaN   \n",
       "247         NaN     19715.7721                     5.072   \n",
       "\n",
       "     train_steps_per_second    total_flos  train_loss  \n",
       "243                     NaN           NaN         NaN  \n",
       "244                     NaN           NaN         NaN  \n",
       "245                     NaN           NaN         NaN  \n",
       "246                     NaN           NaN         NaN  \n",
       "247                   0.085  3.479417e+17    3.136975  "
      ]
     },
     "execution_count": 38,
     "metadata": {},
     "output_type": "execute_result"
    }
   ],
   "source": [
    "trainer_state = trainer.state\n",
    "pd.DataFrame(trainer_state.log_history).tail()"
   ]
  },
  {
   "cell_type": "code",
   "execution_count": null,
   "id": "8abb0899-07b0-431c-8242-b5075db026e1",
   "metadata": {},
   "outputs": [],
   "source": []
  },
  {
   "cell_type": "markdown",
   "id": "331846f1-301e-4c5c-9db5-421530189f96",
   "metadata": {},
   "source": [
    "## Post-training performance evaluation:"
   ]
  },
  {
   "cell_type": "code",
   "execution_count": 55,
   "id": "8e0d4cb5-5d42-4f9f-a344-e9d8abfb7a61",
   "metadata": {},
   "outputs": [],
   "source": [
    "valid_loss = pd.DataFrame(trainer_state.log_history)[[\"step\", \"eval_loss\"]].set_index(\"step\").dropna()"
   ]
  },
  {
   "cell_type": "code",
   "execution_count": 56,
   "id": "37357185-3129-48d1-b9a3-3bf11b50fed5",
   "metadata": {},
   "outputs": [
    {
     "data": {
      "text/html": [
       "<div>\n",
       "<style scoped>\n",
       "    .dataframe tbody tr th:only-of-type {\n",
       "        vertical-align: middle;\n",
       "    }\n",
       "\n",
       "    .dataframe tbody tr th {\n",
       "        vertical-align: top;\n",
       "    }\n",
       "\n",
       "    .dataframe thead th {\n",
       "        text-align: right;\n",
       "    }\n",
       "</style>\n",
       "<table border=\"1\" class=\"dataframe\">\n",
       "  <thead>\n",
       "    <tr style=\"text-align: right;\">\n",
       "      <th></th>\n",
       "      <th>eval_loss</th>\n",
       "    </tr>\n",
       "    <tr>\n",
       "      <th>step</th>\n",
       "      <th></th>\n",
       "    </tr>\n",
       "  </thead>\n",
       "  <tbody>\n",
       "    <tr>\n",
       "      <th>100</th>\n",
       "      <td>3.189142</td>\n",
       "    </tr>\n",
       "    <tr>\n",
       "      <th>200</th>\n",
       "      <td>3.143970</td>\n",
       "    </tr>\n",
       "    <tr>\n",
       "      <th>300</th>\n",
       "      <td>3.130597</td>\n",
       "    </tr>\n",
       "    <tr>\n",
       "      <th>400</th>\n",
       "      <td>3.123451</td>\n",
       "    </tr>\n",
       "    <tr>\n",
       "      <th>500</th>\n",
       "      <td>3.118901</td>\n",
       "    </tr>\n",
       "    <tr>\n",
       "      <th>600</th>\n",
       "      <td>3.115010</td>\n",
       "    </tr>\n",
       "    <tr>\n",
       "      <th>700</th>\n",
       "      <td>3.112337</td>\n",
       "    </tr>\n",
       "    <tr>\n",
       "      <th>800</th>\n",
       "      <td>3.109700</td>\n",
       "    </tr>\n",
       "    <tr>\n",
       "      <th>900</th>\n",
       "      <td>3.108447</td>\n",
       "    </tr>\n",
       "    <tr>\n",
       "      <th>1000</th>\n",
       "      <td>3.107401</td>\n",
       "    </tr>\n",
       "    <tr>\n",
       "      <th>1100</th>\n",
       "      <td>3.105786</td>\n",
       "    </tr>\n",
       "    <tr>\n",
       "      <th>1200</th>\n",
       "      <td>3.105036</td>\n",
       "    </tr>\n",
       "    <tr>\n",
       "      <th>1300</th>\n",
       "      <td>3.104154</td>\n",
       "    </tr>\n",
       "    <tr>\n",
       "      <th>1400</th>\n",
       "      <td>3.103343</td>\n",
       "    </tr>\n",
       "    <tr>\n",
       "      <th>1500</th>\n",
       "      <td>3.102749</td>\n",
       "    </tr>\n",
       "    <tr>\n",
       "      <th>1600</th>\n",
       "      <td>3.102394</td>\n",
       "    </tr>\n",
       "  </tbody>\n",
       "</table>\n",
       "</div>"
      ],
      "text/plain": [
       "      eval_loss\n",
       "step           \n",
       "100    3.189142\n",
       "200    3.143970\n",
       "300    3.130597\n",
       "400    3.123451\n",
       "500    3.118901\n",
       "600    3.115010\n",
       "700    3.112337\n",
       "800    3.109700\n",
       "900    3.108447\n",
       "1000   3.107401\n",
       "1100   3.105786\n",
       "1200   3.105036\n",
       "1300   3.104154\n",
       "1400   3.103343\n",
       "1500   3.102749\n",
       "1600   3.102394"
      ]
     },
     "execution_count": 56,
     "metadata": {},
     "output_type": "execute_result"
    }
   ],
   "source": [
    "valid_loss"
   ]
  },
  {
   "cell_type": "code",
   "execution_count": 57,
   "id": "799738cb-e946-4dd6-a49d-9654f33f7e6d",
   "metadata": {},
   "outputs": [
    {
     "data": {
      "text/plain": [
       "<Axes: xlabel='step'>"
      ]
     },
     "execution_count": 57,
     "metadata": {},
     "output_type": "execute_result"
    },
    {
     "data": {
      "image/png": "[encoded data removed]",
      "text/plain": [
       "<Figure size 640x480 with 1 Axes>"
      ]
     },
     "metadata": {},
     "output_type": "display_data"
    }
   ],
   "source": [
    "valid_loss.plot()"
   ]
  },
  {
   "cell_type": "code",
   "execution_count": null,
   "id": "84e762bd-263e-4836-9e6d-cfa09c3b43ff",
   "metadata": {},
   "outputs": [],
   "source": []
  },
  {
   "cell_type": "code",
   "execution_count": 39,
   "id": "26465a11-d2e5-4ef5-a3ea-5e58cad1c384",
   "metadata": {
    "id": "HYj7J7Ga0cxX"
   },
   "outputs": [],
   "source": [
    "from evaluation import evaluate_on_nlp_tasks"
   ]
  },
  {
   "cell_type": "code",
   "execution_count": 40,
   "id": "b1cc0568-4baf-49ad-8ba5-86c7f390bca9",
   "metadata": {
    "id": "kkFRTLMY0cu_"
   },
   "outputs": [],
   "source": [
    "model.eval();"
   ]
  },
  {
   "cell_type": "code",
   "execution_count": 41,
   "id": "4354c7b8-6481-43b4-a2da-a176f54c1b10",
   "metadata": {
    "id": "4XCa4Oob0csn"
   },
   "outputs": [
    {
     "name": "stdout",
     "output_type": "stream",
     "text": [
      "will shuffle dataset\n"
     ]
    },
    {
     "name": "stderr",
     "output_type": "stream",
     "text": [
      "/opt/conda/lib/python3.10/site-packages/datasets/load.py:1461: FutureWarning: The repository for hellaswag contains custom code which must be executed to correctly load the dataset. You can inspect the repository content at https://hf.co/datasets/hellaswag\n",
      "You can avoid this message in future by passing the argument `trust_remote_code=True`.\n",
      "Passing `trust_remote_code=True` will be mandatory to load this dataset from the next major release of `datasets`.\n",
      "  warnings.warn(\n",
      "100%|███████████████████████| 3000/3000 [01:27<00:00, 34.14it/s]\n"
     ]
    }
   ],
   "source": [
    "with torch.no_grad():\n",
    "    eval_res = evaluate_on_nlp_tasks(model, tokenizer, limit=300, do_shuffle=True)"
   ]
  },
  {
   "cell_type": "code",
   "execution_count": 42,
   "id": "23b58fb5-359d-4ed9-953c-0ee79bb7e132",
   "metadata": {
    "id": "gcoKz3me0cqZ"
   },
   "outputs": [
    {
     "data": {
      "text/plain": [
       "{'hellaswag': {'acc,none': 0.44333333333333336,\n",
       "  'acc_norm,none': 0.5466666666666666,\n",
       "  'alias': 'hellaswag'},\n",
       " 'piqa': {'acc,none': 0.7533333333333333,\n",
       "  'acc_norm,none': 0.75,\n",
       "  'alias': 'piqa'},\n",
       " 'boolq': {'acc,none': 0.6466666666666666, 'alias': 'boolq'},\n",
       " 'winogrande': {'acc,none': 0.68, 'alias': 'winogrande'}}"
      ]
     },
     "execution_count": 42,
     "metadata": {},
     "output_type": "execute_result"
    }
   ],
   "source": [
    "eval_res[\"results\"]"
   ]
  },
  {
   "cell_type": "code",
   "execution_count": null,
   "id": "2ed6c97c-35ac-4ac3-ab36-b41be2ce79f3",
   "metadata": {
    "id": "UIJuACQB0coM"
   },
   "outputs": [],
   "source": []
  },
  {
   "cell_type": "code",
   "execution_count": 43,
   "id": "7e015492-dea1-4c67-bc35-6fdc2103c21f",
   "metadata": {
    "id": "jwdG7Lhi2gZy"
   },
   "outputs": [
    {
     "name": "stdout",
     "output_type": "stream",
     "text": [
      "will not shuffle dataset\n"
     ]
    },
    {
     "name": "stderr",
     "output_type": "stream",
     "text": [
      "/opt/conda/lib/python3.10/site-packages/datasets/load.py:1461: FutureWarning: The repository for hellaswag contains custom code which must be executed to correctly load the dataset. You can inspect the repository content at https://hf.co/datasets/hellaswag\n",
      "You can avoid this message in future by passing the argument `trust_remote_code=True`.\n",
      "Passing `trust_remote_code=True` will be mandatory to load this dataset from the next major release of `datasets`.\n",
      "  warnings.warn(\n",
      "100%|█████████████████████| 10000/10000 [04:26<00:00, 37.48it/s]\n"
     ]
    }
   ],
   "source": [
    "eval_res_orig = evaluate_on_nlp_tasks(model, tokenizer, limit=1000, bootstrap_iters=1000, do_shuffle=False)"
   ]
  },
  {
   "cell_type": "code",
   "execution_count": 44,
   "id": "0f989ed8-d3b1-43c6-b17c-e9ca9b40b403",
   "metadata": {
    "id": "MHH9Nq8v2fxj"
   },
   "outputs": [
    {
     "data": {
      "text/plain": [
       "{'hellaswag': {'acc,none': 0.423,\n",
       "  'acc_stderr,none': 0.01563058909047635,\n",
       "  'acc_norm,none': 0.542,\n",
       "  'acc_norm_stderr,none': 0.015763390640483703,\n",
       "  'alias': 'hellaswag'},\n",
       " 'piqa': {'acc,none': 0.735,\n",
       "  'acc_stderr,none': 0.013963164754809944,\n",
       "  'acc_norm,none': 0.751,\n",
       "  'acc_norm_stderr,none': 0.013681600278702294,\n",
       "  'alias': 'piqa'},\n",
       " 'boolq': {'acc,none': 0.639,\n",
       "  'acc_stderr,none': 0.015195720118175122,\n",
       "  'alias': 'boolq'},\n",
       " 'winogrande': {'acc,none': 0.681,\n",
       "  'acc_stderr,none': 0.014746404865473477,\n",
       "  'alias': 'winogrande'}}"
      ]
     },
     "execution_count": 44,
     "metadata": {},
     "output_type": "execute_result"
    }
   ],
   "source": [
    "eval_res_orig[\"results\"]"
   ]
  },
  {
   "cell_type": "code",
   "execution_count": null,
   "id": "4377543f-853b-4823-ad0b-cedbe6bee7fc",
   "metadata": {
    "id": "Tf0JfCcW0chu"
   },
   "outputs": [],
   "source": []
  },
  {
   "cell_type": "code",
   "execution_count": 45,
   "id": "1e3c378b-33a2-4a83-8f65-d58e294da28f",
   "metadata": {
    "id": "bVcMBezD0cmW"
   },
   "outputs": [
    {
     "name": "stdout",
     "output_type": "stream",
     "text": [
      "will shuffle dataset\n"
     ]
    },
    {
     "name": "stderr",
     "output_type": "stream",
     "text": [
      "/opt/conda/lib/python3.10/site-packages/datasets/load.py:1461: FutureWarning: The repository for hellaswag contains custom code which must be executed to correctly load the dataset. You can inspect the repository content at https://hf.co/datasets/hellaswag\n",
      "You can avoid this message in future by passing the argument `trust_remote_code=True`.\n",
      "Passing `trust_remote_code=True` will be mandatory to load this dataset from the next major release of `datasets`.\n",
      "  warnings.warn(\n",
      "100%|█████████████████████| 10000/10000 [04:54<00:00, 33.97it/s]\n"
     ]
    }
   ],
   "source": [
    "eval_res = evaluate_on_nlp_tasks(model, tokenizer, limit=1000, bootstrap_iters=1000, do_shuffle=True)"
   ]
  },
  {
   "cell_type": "code",
   "execution_count": 46,
   "id": "41d46f97-30a8-42db-95ea-576d0d491de2",
   "metadata": {
    "id": "MN9Nehnd0ckE"
   },
   "outputs": [
    {
     "data": {
      "text/plain": [
       "{'hellaswag': {'acc,none': 0.421,\n",
       "  'acc_stderr,none': 0.015620595475301324,\n",
       "  'acc_norm,none': 0.542,\n",
       "  'acc_norm_stderr,none': 0.015763390640483706,\n",
       "  'alias': 'hellaswag'},\n",
       " 'piqa': {'acc,none': 0.758,\n",
       "  'acc_stderr,none': 0.013550631705555963,\n",
       "  'acc_norm,none': 0.757,\n",
       "  'acc_norm_stderr,none': 0.013569640199177462,\n",
       "  'alias': 'piqa'},\n",
       " 'boolq': {'acc,none': 0.65,\n",
       "  'acc_stderr,none': 0.015090650341444231,\n",
       "  'alias': 'boolq'},\n",
       " 'winogrande': {'acc,none': 0.686,\n",
       "  'acc_stderr,none': 0.014683991951087966,\n",
       "  'alias': 'winogrande'}}"
      ]
     },
     "execution_count": 46,
     "metadata": {},
     "output_type": "execute_result"
    }
   ],
   "source": [
    "eval_res[\"results\"]"
   ]
  },
  {
   "cell_type": "code",
   "execution_count": null,
   "id": "194b73c0-6928-45a8-9d5e-c610adda8d59",
   "metadata": {
    "id": "ETQuWFNf0ca6"
   },
   "outputs": [],
   "source": []
  },
  {
   "cell_type": "markdown",
   "id": "b947893c-f717-400d-ac78-789787e766f6",
   "metadata": {
    "id": "y-fvt2k00o3m"
   },
   "source": [
    "# Save"
   ]
  },
  {
   "cell_type": "code",
   "execution_count": 47,
   "id": "efb483d9-2e71-4cf1-a5e5-2bd5cd87ae91",
   "metadata": {
    "id": "iMherTxT0ou9"
   },
   "outputs": [],
   "source": [
    "model.cpu();"
   ]
  },
  {
   "cell_type": "code",
   "execution_count": 48,
   "id": "0a48f383-135a-459e-8840-815da26a82b7",
   "metadata": {
    "id": "DNeG2dFE0ose"
   },
   "outputs": [],
   "source": [
    "torch.save(model.state_dict(), save_path)"
   ]
  },
  {
   "cell_type": "code",
   "execution_count": null,
   "id": "a9dcd58a-209c-4e92-b84b-463aad857a03",
   "metadata": {
    "id": "qk2w5lTM0op9"
   },
   "outputs": [],
   "source": []
  },
  {
   "cell_type": "markdown",
   "id": "176a4ac1-2dde-4dbd-a8a7-2195bfb8a562",
   "metadata": {
    "id": "RByHgPZC0xpQ"
   },
   "source": [
    "# Stats"
   ]
  },
  {
   "cell_type": "code",
   "execution_count": 2,
   "id": "9856b73a-f393-4d45-88b9-1af36fa8e6d7",
   "metadata": {},
   "outputs": [],
   "source": [
    "import pandas as pd"
   ]
  },
  {
   "cell_type": "code",
   "execution_count": 3,
   "id": "0ac6dd78-11d9-4c5b-aa7f-1144c09010bc",
   "metadata": {},
   "outputs": [],
   "source": [
    "trainer_state = pd.read_pickle(\"tmp_logs/llmpruner_style_20.pkl\")"
   ]
  },
  {
   "cell_type": "code",
   "execution_count": 4,
   "id": "a1e1f9ce-9b9a-440b-bca6-3fe3f62bd63c",
   "metadata": {
    "id": "FHmMlRa_02Ep"
   },
   "outputs": [],
   "source": [
    "df = pd.DataFrame(trainer_state.log_history)"
   ]
  },
  {
   "cell_type": "code",
   "execution_count": 5,
   "id": "dcd30e1a-ef62-4df3-8f48-04a933bfcf77",
   "metadata": {
    "id": "mKCfP4JM02Ct"
   },
   "outputs": [],
   "source": [
    "metrics_df = df[[\"step\", \"hellaswag\", \"piqa\", \"boolq\", \"winogrande\"]]"
   ]
  },
  {
   "cell_type": "code",
   "execution_count": 7,
   "id": "4a8bfc19-bbfd-4c0f-a99e-041278fdd018",
   "metadata": {},
   "outputs": [
    {
     "data": {
      "text/html": [
       "<div>\n",
       "<style scoped>\n",
       "    .dataframe tbody tr th:only-of-type {\n",
       "        vertical-align: middle;\n",
       "    }\n",
       "\n",
       "    .dataframe tbody tr th {\n",
       "        vertical-align: top;\n",
       "    }\n",
       "\n",
       "    .dataframe thead th {\n",
       "        text-align: right;\n",
       "    }\n",
       "</style>\n",
       "<table border=\"1\" class=\"dataframe\">\n",
       "  <thead>\n",
       "    <tr style=\"text-align: right;\">\n",
       "      <th></th>\n",
       "      <th>step</th>\n",
       "      <th>hellaswag</th>\n",
       "      <th>piqa</th>\n",
       "      <th>boolq</th>\n",
       "      <th>winogrande</th>\n",
       "    </tr>\n",
       "  </thead>\n",
       "  <tbody>\n",
       "    <tr>\n",
       "      <th>243</th>\n",
       "      <td>1630</td>\n",
       "      <td>0.4</td>\n",
       "      <td>0.75</td>\n",
       "      <td>0.62</td>\n",
       "      <td>0.69</td>\n",
       "    </tr>\n",
       "    <tr>\n",
       "      <th>244</th>\n",
       "      <td>1640</td>\n",
       "      <td>0.4</td>\n",
       "      <td>0.75</td>\n",
       "      <td>0.62</td>\n",
       "      <td>0.69</td>\n",
       "    </tr>\n",
       "    <tr>\n",
       "      <th>245</th>\n",
       "      <td>1650</td>\n",
       "      <td>0.4</td>\n",
       "      <td>0.75</td>\n",
       "      <td>0.62</td>\n",
       "      <td>0.69</td>\n",
       "    </tr>\n",
       "    <tr>\n",
       "      <th>246</th>\n",
       "      <td>1660</td>\n",
       "      <td>0.4</td>\n",
       "      <td>0.75</td>\n",
       "      <td>0.62</td>\n",
       "      <td>0.69</td>\n",
       "    </tr>\n",
       "    <tr>\n",
       "      <th>247</th>\n",
       "      <td>1666</td>\n",
       "      <td>0.4</td>\n",
       "      <td>0.75</td>\n",
       "      <td>0.62</td>\n",
       "      <td>0.69</td>\n",
       "    </tr>\n",
       "  </tbody>\n",
       "</table>\n",
       "</div>"
      ],
      "text/plain": [
       "     step  hellaswag  piqa  boolq  winogrande\n",
       "243  1630        0.4  0.75   0.62        0.69\n",
       "244  1640        0.4  0.75   0.62        0.69\n",
       "245  1650        0.4  0.75   0.62        0.69\n",
       "246  1660        0.4  0.75   0.62        0.69\n",
       "247  1666        0.4  0.75   0.62        0.69"
      ]
     },
     "execution_count": 7,
     "metadata": {},
     "output_type": "execute_result"
    }
   ],
   "source": [
    "metrics_df.ffill().tail()"
   ]
  },
  {
   "cell_type": "code",
   "execution_count": 51,
   "id": "0fc05b4f-37a6-4992-9f57-f0a3d1eddc11",
   "metadata": {
    "id": "yAwQFeiz02AS"
   },
   "outputs": [
    {
     "data": {
      "text/plain": [
       "<Axes: xlabel='step'>"
      ]
     },
     "execution_count": 51,
     "metadata": {},
     "output_type": "execute_result"
    },
    {
     "data": {
      "image/png": "[encoded data removed]",
      "text/plain": [
       "<Figure size 640x480 with 1 Axes>"
      ]
     },
     "metadata": {},
     "output_type": "display_data"
    }
   ],
   "source": [
    "metrics_df[[\"step\", \"boolq\"]].dropna().set_index(\"step\").plot()"
   ]
  },
  {
   "cell_type": "code",
   "execution_count": 52,
   "id": "1ab997de-7eae-4049-ba26-b04ed5c19f3d",
   "metadata": {
    "id": "8F9ss7Hg01-K"
   },
   "outputs": [
    {
     "data": {
      "text/plain": [
       "<Axes: xlabel='step'>"
      ]
     },
     "execution_count": 52,
     "metadata": {},
     "output_type": "execute_result"
    },
    {
     "data": {
      "image/png": "[encoded data removed]",
      "text/plain": [
       "<Figure size 640x480 with 1 Axes>"
      ]
     },
     "metadata": {},
     "output_type": "display_data"
    }
   ],
   "source": [
    "metrics_df[[\"step\", \"hellaswag\"]].dropna().set_index(\"step\").plot()"
   ]
  },
  {
   "cell_type": "code",
   "execution_count": 53,
   "id": "6eb5edce-7643-41d4-aba9-26c5d6a4cad5",
   "metadata": {
    "id": "1YGrsE8R0172"
   },
   "outputs": [
    {
     "data": {
      "image/png": "[encoded data removed]",
      "text/plain": [
       "<Figure size 640x480 with 1 Axes>"
      ]
     },
     "metadata": {},
     "output_type": "display_data"
    }
   ],
   "source": [
    "metrics_df = df[[\"step\", \"piqa\"]].dropna().set_index(\"step\").plot()"
   ]
  },
  {
   "cell_type": "code",
   "execution_count": 54,
   "id": "507b2e5e-1b58-46f7-a53a-52b8cb14bce5",
   "metadata": {
    "id": "1PvB0OVV015b"
   },
   "outputs": [
    {
     "data": {
      "image/png": "[encoded data removed]",
      "text/plain": [
       "<Figure size 640x480 with 1 Axes>"
      ]
     },
     "metadata": {},
     "output_type": "display_data"
    }
   ],
   "source": [
    "metrics_df = df[[\"step\", \"winogrande\"]].dropna().set_index(\"step\").plot()"
   ]
  },
  {
   "cell_type": "code",
   "execution_count": null,
   "id": "1f1e7af6-2cb7-4555-b913-024136e9b4f6",
   "metadata": {},
   "outputs": [],
   "source": []
  },
  {
   "cell_type": "code",
   "execution_count": null,
   "id": "b5b6875b-ff5d-4154-a36d-bb55b0568853",
   "metadata": {},
   "outputs": [],
   "source": []
  },
  {
   "cell_type": "code",
   "execution_count": null,
   "id": "a70806b7-6389-4869-9881-ab5c2b4d44d1",
   "metadata": {},
   "outputs": [],
   "source": []
  }
 ],
 "metadata": {
  "kernelspec": {
   "display_name": "Python 3 (ipykernel)",
   "language": "python",
   "name": "python3"
  },
  "language_info": {
   "codemirror_mode": {
    "name": "ipython",
    "version": 3
   },
   "file_extension": ".py",
   "mimetype": "text/x-python",
   "name": "python",
   "nbconvert_exporter": "python",
   "pygments_lexer": "ipython3",
   "version": "3.11.7"
  }
 },
 "nbformat": 4,
 "nbformat_minor": 5
}
